{
 "cells": [
  {
   "cell_type": "markdown",
   "metadata": {},
   "source": [
    "# Importing The Dataset"
   ]
  },
  {
   "cell_type": "code",
   "execution_count": 12,
   "metadata": {
    "id": "5k38VAXQPKlf"
   },
   "outputs": [],
   "source": [
    "import pandas as pd\n",
    "import numpy as np\n",
    "original_data = pd.read_csv(\"data/train.csv\")\n",
    "original_data.shape\n",
    "pd.set_option('display.max_rows', None),
    "pd.set_option('display.max_columns', None)"
   ]
  },
  {
   "cell_type": "code",
   "execution_count": 13,
   "metadata": {
    "id": "Sh-ejb5TPlP4",
    "scrolled": true
   },
   "outputs": [
    {
     "data": {
      "text/html": [
       "<div>\n",
       "<style scoped>\n",
       "    .dataframe tbody tr th:only-of-type {\n",
       "        vertical-align: middle;\n",
       "    }\n",
       "\n",
       "    .dataframe tbody tr th {\n",
       "        vertical-align: top;\n",
       "    }\n",
       "\n",
       "    .dataframe thead th {\n",
       "        text-align: right;\n",
       "    }\n",
       "</style>\n",
       "<table border=\"1\" class=\"dataframe\">\n",
       "  <thead>\n",
       "    <tr style=\"text-align: right;\">\n",
       "      <th></th>\n",
       "      <th>id</th>\n",
       "      <th>brand</th>\n",
       "      <th>model</th>\n",
       "      <th>model_year</th>\n",
       "      <th>milage</th>\n",
       "      <th>fuel_type</th>\n",
       "      <th>engine</th>\n",
       "      <th>transmission</th>\n",
       "      <th>ext_col</th>\n",
       "      <th>int_col</th>\n",
       "      <th>accident</th>\n",
       "      <th>clean_title</th>\n",
       "      <th>target</th>\n",
       "    </tr>\n",
       "  </thead>\n",
       "  <tbody>\n",
       "    <tr>\n",
       "      <th>0</th>\n",
       "      <td>32822</td>\n",
       "      <td>Chevrolet</td>\n",
       "      <td>Camaro 2SS</td>\n",
       "      <td>2014</td>\n",
       "      <td>32000</td>\n",
       "      <td>Gasoline</td>\n",
       "      <td>455.0HP 6.2L 8 Cylinder Engine Gasoline Fuel</td>\n",
       "      <td>6-Speed A/T</td>\n",
       "      <td>Blue</td>\n",
       "      <td>Black</td>\n",
       "      <td>None reported</td>\n",
       "      <td>Yes</td>\n",
       "      <td>27500</td>\n",
       "    </tr>\n",
       "    <tr>\n",
       "      <th>1</th>\n",
       "      <td>32823</td>\n",
       "      <td>GMC</td>\n",
       "      <td>Sierra 1500 Denali</td>\n",
       "      <td>2022</td>\n",
       "      <td>11000</td>\n",
       "      <td>Gasoline</td>\n",
       "      <td>420.0HP 6.2L 8 Cylinder Engine Gasoline Fuel</td>\n",
       "      <td>A/T</td>\n",
       "      <td>White</td>\n",
       "      <td>Black</td>\n",
       "      <td>At least 1 accident or damage reported</td>\n",
       "      <td>Yes</td>\n",
       "      <td>30000</td>\n",
       "    </tr>\n",
       "    <tr>\n",
       "      <th>2</th>\n",
       "      <td>32824</td>\n",
       "      <td>Lamborghini</td>\n",
       "      <td>Huracan LP580-2S</td>\n",
       "      <td>2017</td>\n",
       "      <td>5194</td>\n",
       "      <td>Gasoline</td>\n",
       "      <td>5.2L V10 40V GDI DOHC</td>\n",
       "      <td>7-Speed Automatic with Auto-Shift</td>\n",
       "      <td>Bianco Isis</td>\n",
       "      <td>Nero Ade</td>\n",
       "      <td>None reported</td>\n",
       "      <td>NaN</td>\n",
       "      <td>209000</td>\n",
       "    </tr>\n",
       "    <tr>\n",
       "      <th>3</th>\n",
       "      <td>32825</td>\n",
       "      <td>Mercedes-Benz</td>\n",
       "      <td>E-Class E 350</td>\n",
       "      <td>2016</td>\n",
       "      <td>53500</td>\n",
       "      <td>Gasoline</td>\n",
       "      <td>302.0HP 3.5L V6 Cylinder Engine Gasoline Fuel</td>\n",
       "      <td>A/T</td>\n",
       "      <td>Silver</td>\n",
       "      <td>Black</td>\n",
       "      <td>At least 1 accident or damage reported</td>\n",
       "      <td>Yes</td>\n",
       "      <td>21400</td>\n",
       "    </tr>\n",
       "    <tr>\n",
       "      <th>4</th>\n",
       "      <td>32826</td>\n",
       "      <td>Mercedes-Benz</td>\n",
       "      <td>AMG C 63 Base</td>\n",
       "      <td>2017</td>\n",
       "      <td>22000</td>\n",
       "      <td>Gasoline</td>\n",
       "      <td>605.0HP 4.0L 8 Cylinder Engine Gasoline Fuel</td>\n",
       "      <td>Transmission w/Dual Shift Mode</td>\n",
       "      <td>Gray</td>\n",
       "      <td>Black</td>\n",
       "      <td>None reported</td>\n",
       "      <td>Yes</td>\n",
       "      <td>48000</td>\n",
       "    </tr>\n",
       "  </tbody>\n",
       "</table>\n",
       "</div>"
      ],
      "text/plain": [
       "      id          brand               model  model_year  milage fuel_type  \\\n",
       "0  32822      Chevrolet          Camaro 2SS        2014   32000  Gasoline   \n",
       "1  32823            GMC  Sierra 1500 Denali        2022   11000  Gasoline   \n",
       "2  32824    Lamborghini    Huracan LP580-2S        2017    5194  Gasoline   \n",
       "3  32825  Mercedes-Benz       E-Class E 350        2016   53500  Gasoline   \n",
       "4  32826  Mercedes-Benz       AMG C 63 Base        2017   22000  Gasoline   \n",
       "\n",
       "                                          engine  \\\n",
       "0   455.0HP 6.2L 8 Cylinder Engine Gasoline Fuel   \n",
       "1   420.0HP 6.2L 8 Cylinder Engine Gasoline Fuel   \n",
       "2                          5.2L V10 40V GDI DOHC   \n",
       "3  302.0HP 3.5L V6 Cylinder Engine Gasoline Fuel   \n",
       "4   605.0HP 4.0L 8 Cylinder Engine Gasoline Fuel   \n",
       "\n",
       "                        transmission      ext_col   int_col  \\\n",
       "0                        6-Speed A/T         Blue     Black   \n",
       "1                                A/T        White     Black   \n",
       "2  7-Speed Automatic with Auto-Shift  Bianco Isis  Nero Ade   \n",
       "3                                A/T       Silver     Black   \n",
       "4     Transmission w/Dual Shift Mode         Gray     Black   \n",
       "\n",
       "                                 accident clean_title  target  \n",
       "0                           None reported         Yes   27500  \n",
       "1  At least 1 accident or damage reported         Yes   30000  \n",
       "2                           None reported         NaN  209000  \n",
       "3  At least 1 accident or damage reported         Yes   21400  \n",
       "4                           None reported         Yes   48000  "
      ]
     },
     "execution_count": 13,
     "metadata": {},
     "output_type": "execute_result"
    }
   ],
   "source": [
    "data = original_data.copy()\n",
    "original_data.head()"
   ]
  },
  {
   "cell_type": "code",
   "execution_count": 14,
   "metadata": {
    "colab": {
     "base_uri": "https://localhost:8080/",
     "height": 459
    },
    "id": "BrztDc57PtGo",
    "outputId": "6775786e-07e2-4f52-e68b-a5ddf24ae9dd",
    "scrolled": true
   },
   "outputs": [
    {
     "data": {
      "text/html": [
       "<div>\n",
       "<style scoped>\n",
       "    .dataframe tbody tr th:only-of-type {\n",
       "        vertical-align: middle;\n",
       "    }\n",
       "\n",
       "    .dataframe tbody tr th {\n",
       "        vertical-align: top;\n",
       "    }\n",
       "\n",
       "    .dataframe thead th {\n",
       "        text-align: right;\n",
       "    }\n",
       "</style>\n",
       "<table border=\"1\" class=\"dataframe\">\n",
       "  <thead>\n",
       "    <tr style=\"text-align: right;\">\n",
       "      <th></th>\n",
       "      <th>id</th>\n",
       "      <th>brand</th>\n",
       "      <th>model</th>\n",
       "      <th>model_year</th>\n",
       "      <th>milage</th>\n",
       "      <th>fuel_type</th>\n",
       "      <th>engine</th>\n",
       "      <th>transmission</th>\n",
       "      <th>ext_col</th>\n",
       "      <th>int_col</th>\n",
       "      <th>accident</th>\n",
       "      <th>clean_title</th>\n",
       "      <th>target</th>\n",
       "    </tr>\n",
       "  </thead>\n",
       "  <tbody>\n",
       "    <tr>\n",
       "      <th>0</th>\n",
       "      <td>32822</td>\n",
       "      <td>Chevrolet</td>\n",
       "      <td>Camaro 2SS</td>\n",
       "      <td>2014</td>\n",
       "      <td>32000</td>\n",
       "      <td>Gasoline</td>\n",
       "      <td>455.0HP 6.2L 8 Cylinder Engine Gasoline Fuel</td>\n",
       "      <td>6-Speed A/T</td>\n",
       "      <td>Blue</td>\n",
       "      <td>Black</td>\n",
       "      <td>None reported</td>\n",
       "      <td>Yes</td>\n",
       "      <td>27500</td>\n",
       "    </tr>\n",
       "    <tr>\n",
       "      <th>1</th>\n",
       "      <td>32823</td>\n",
       "      <td>GMC</td>\n",
       "      <td>Sierra 1500 Denali</td>\n",
       "      <td>2022</td>\n",
       "      <td>11000</td>\n",
       "      <td>Gasoline</td>\n",
       "      <td>420.0HP 6.2L 8 Cylinder Engine Gasoline Fuel</td>\n",
       "      <td>A/T</td>\n",
       "      <td>White</td>\n",
       "      <td>Black</td>\n",
       "      <td>At least 1 accident or damage reported</td>\n",
       "      <td>Yes</td>\n",
       "      <td>30000</td>\n",
       "    </tr>\n",
       "    <tr>\n",
       "      <th>2</th>\n",
       "      <td>32824</td>\n",
       "      <td>Lamborghini</td>\n",
       "      <td>Huracan LP580-2S</td>\n",
       "      <td>2017</td>\n",
       "      <td>5194</td>\n",
       "      <td>Gasoline</td>\n",
       "      <td>5.2L V10 40V GDI DOHC</td>\n",
       "      <td>7-Speed Automatic with Auto-Shift</td>\n",
       "      <td>Bianco Isis</td>\n",
       "      <td>Nero Ade</td>\n",
       "      <td>None reported</td>\n",
       "      <td>NaN</td>\n",
       "      <td>209000</td>\n",
       "    </tr>\n",
       "    <tr>\n",
       "      <th>3</th>\n",
       "      <td>32825</td>\n",
       "      <td>Mercedes-Benz</td>\n",
       "      <td>E-Class E 350</td>\n",
       "      <td>2016</td>\n",
       "      <td>53500</td>\n",
       "      <td>Gasoline</td>\n",
       "      <td>302.0HP 3.5L V6 Cylinder Engine Gasoline Fuel</td>\n",
       "      <td>A/T</td>\n",
       "      <td>Silver</td>\n",
       "      <td>Black</td>\n",
       "      <td>At least 1 accident or damage reported</td>\n",
       "      <td>Yes</td>\n",
       "      <td>21400</td>\n",
       "    </tr>\n",
       "    <tr>\n",
       "      <th>4</th>\n",
       "      <td>32826</td>\n",
       "      <td>Mercedes-Benz</td>\n",
       "      <td>AMG C 63 Base</td>\n",
       "      <td>2017</td>\n",
       "      <td>22000</td>\n",
       "      <td>Gasoline</td>\n",
       "      <td>605.0HP 4.0L 8 Cylinder Engine Gasoline Fuel</td>\n",
       "      <td>Transmission w/Dual Shift Mode</td>\n",
       "      <td>Gray</td>\n",
       "      <td>Black</td>\n",
       "      <td>None reported</td>\n",
       "      <td>Yes</td>\n",
       "      <td>48000</td>\n",
       "    </tr>\n",
       "  </tbody>\n",
       "</table>\n",
       "</div>"
      ],
      "text/plain": [
       "      id          brand               model  model_year  milage fuel_type  \\\n",
       "0  32822      Chevrolet          Camaro 2SS        2014   32000  Gasoline   \n",
       "1  32823            GMC  Sierra 1500 Denali        2022   11000  Gasoline   \n",
       "2  32824    Lamborghini    Huracan LP580-2S        2017    5194  Gasoline   \n",
       "3  32825  Mercedes-Benz       E-Class E 350        2016   53500  Gasoline   \n",
       "4  32826  Mercedes-Benz       AMG C 63 Base        2017   22000  Gasoline   \n",
       "\n",
       "                                          engine  \\\n",
       "0   455.0HP 6.2L 8 Cylinder Engine Gasoline Fuel   \n",
       "1   420.0HP 6.2L 8 Cylinder Engine Gasoline Fuel   \n",
       "2                          5.2L V10 40V GDI DOHC   \n",
       "3  302.0HP 3.5L V6 Cylinder Engine Gasoline Fuel   \n",
       "4   605.0HP 4.0L 8 Cylinder Engine Gasoline Fuel   \n",
       "\n",
       "                        transmission      ext_col   int_col  \\\n",
       "0                        6-Speed A/T         Blue     Black   \n",
       "1                                A/T        White     Black   \n",
       "2  7-Speed Automatic with Auto-Shift  Bianco Isis  Nero Ade   \n",
       "3                                A/T       Silver     Black   \n",
       "4     Transmission w/Dual Shift Mode         Gray     Black   \n",
       "\n",
       "                                 accident clean_title  target  \n",
       "0                           None reported         Yes   27500  \n",
       "1  At least 1 accident or damage reported         Yes   30000  \n",
       "2                           None reported         NaN  209000  \n",
       "3  At least 1 accident or damage reported         Yes   21400  \n",
       "4                           None reported         Yes   48000  "
      ]
     },
     "execution_count": 14,
     "metadata": {},
     "output_type": "execute_result"
    }
   ],
   "source": [
    "data.head()"
   ]
  },
  {
   "cell_type": "markdown",
   "metadata": {},
   "source": [
    "# Data Cleaning"
   ]
  },
  {
   "cell_type": "markdown",
   "metadata": {},
   "source": [
    "### Fuel_type columns "
   ]
  },
  {
   "cell_type": "code",
   "execution_count": 35,
   "metadata": {},
   "outputs": [
    {
     "data": {
      "text/plain": [
       "(1083,)"
      ]
     },
     "execution_count": 35,
     "metadata": {},
     "output_type": "execute_result"
    }
   ],
   "source": [
    "data['engine'].unique().shape"
   ]
  },
  {
   "cell_type": "code",
   "execution_count": 16,
   "metadata": {
    "colab": {
     "base_uri": "https://localhost:8080/"
    },
    "id": "h6IRL1kOPubk",
    "outputId": "12454754-e9e9-4dc1-ca51-b82d69689f36"
   },
   "outputs": [],
   "source": [
    "data['fuel_type'].replace('–', \"unknown\", inplace=True)\n",
    "data['fuel_type'].replace('not supported', \"unknown\", inplace=True)\n",
    "data['fuel_type'].fillna('unknown' , inplace = True)"
   ]
  },
  {
   "cell_type": "markdown",
   "metadata": {},
   "source": [
    "### Accident Column"
   ]
  },
  {
   "cell_type": "code",
   "execution_count": 17,
   "metadata": {},
   "outputs": [
    {
     "data": {
      "text/plain": [
       "2033"
      ]
     },
     "execution_count": 17,
     "metadata": {},
     "output_type": "execute_result"
    }
   ],
   "source": [
    "data['accident'].isnull().sum()"
   ]
  },
  {
   "cell_type": "code",
   "execution_count": 18,
   "metadata": {
    "colab": {
     "base_uri": "https://localhost:8080/",
     "height": 533
    },
    "id": "bKy9uSlCPx4q",
    "outputId": "47cb8c96-b89d-4cb8-d669-2dd703a3bead"
   },
   "outputs": [],
   "source": [
    "data.dropna(subset=['accident'], inplace=True)"
   ]
  },
  {
   "cell_type": "markdown",
   "metadata": {},
   "source": [
    "### Clean_Title columns"
   ]
  },
  {
   "cell_type": "code",
   "execution_count": 19,
   "metadata": {},
   "outputs": [
    {
     "data": {
      "text/plain": [
       "array(['Yes', nan], dtype=object)"
      ]
     },
     "execution_count": 19,
     "metadata": {},
     "output_type": "execute_result"
    }
   ],
   "source": [
    "data['clean_title'].unique()"
   ]
  },
  {
   "cell_type": "code",
   "execution_count": 20,
   "metadata": {
    "colab": {
     "base_uri": "https://localhost:8080/"
    },
    "id": "57Me-eMhP18M",
    "outputId": "9b9062e4-f445-4f27-e788-5c10cc9c8b2b"
   },
   "outputs": [],
   "source": [
    "data['clean_title'].fillna('Unknown', inplace=True);"
   ]
  },
  {
   "cell_type": "markdown",
   "metadata": {},
   "source": [
    "# Outlier Removal"
   ]
  },
  {
   "cell_type": "code",
   "execution_count": 21,
   "metadata": {},
   "outputs": [
    {
     "data": {
      "text/html": [
       "<div>\n",
       "<style scoped>\n",
       "    .dataframe tbody tr th:only-of-type {\n",
       "        vertical-align: middle;\n",
       "    }\n",
       "\n",
       "    .dataframe tbody tr th {\n",
       "        vertical-align: top;\n",
       "    }\n",
       "\n",
       "    .dataframe thead th {\n",
       "        text-align: right;\n",
       "    }\n",
       "</style>\n",
       "<table border=\"1\" class=\"dataframe\">\n",
       "  <thead>\n",
       "    <tr style=\"text-align: right;\">\n",
       "      <th></th>\n",
       "      <th>id</th>\n",
       "      <th>model_year</th>\n",
       "      <th>milage</th>\n",
       "      <th>target</th>\n",
       "    </tr>\n",
       "  </thead>\n",
       "  <tbody>\n",
       "    <tr>\n",
       "      <th>count</th>\n",
       "      <td>153678.000000</td>\n",
       "      <td>153678.000000</td>\n",
       "      <td>153678.000000</td>\n",
       "      <td>1.536780e+05</td>\n",
       "    </tr>\n",
       "    <tr>\n",
       "      <th>mean</th>\n",
       "      <td>110673.150809</td>\n",
       "      <td>2015.808828</td>\n",
       "      <td>65886.747804</td>\n",
       "      <td>4.371700e+04</td>\n",
       "    </tr>\n",
       "    <tr>\n",
       "      <th>std</th>\n",
       "      <td>44959.391475</td>\n",
       "      <td>5.668564</td>\n",
       "      <td>49833.732540</td>\n",
       "      <td>7.913659e+04</td>\n",
       "    </tr>\n",
       "    <tr>\n",
       "      <th>min</th>\n",
       "      <td>32822.000000</td>\n",
       "      <td>1974.000000</td>\n",
       "      <td>100.000000</td>\n",
       "      <td>2.000000e+03</td>\n",
       "    </tr>\n",
       "    <tr>\n",
       "      <th>25%</th>\n",
       "      <td>71728.250000</td>\n",
       "      <td>2013.000000</td>\n",
       "      <td>24280.000000</td>\n",
       "      <td>1.700000e+04</td>\n",
       "    </tr>\n",
       "    <tr>\n",
       "      <th>50%</th>\n",
       "      <td>110668.500000</td>\n",
       "      <td>2017.000000</td>\n",
       "      <td>57852.000000</td>\n",
       "      <td>3.050000e+04</td>\n",
       "    </tr>\n",
       "    <tr>\n",
       "      <th>75%</th>\n",
       "      <td>149615.750000</td>\n",
       "      <td>2020.000000</td>\n",
       "      <td>95500.000000</td>\n",
       "      <td>4.970000e+04</td>\n",
       "    </tr>\n",
       "    <tr>\n",
       "      <th>max</th>\n",
       "      <td>188532.000000</td>\n",
       "      <td>2024.000000</td>\n",
       "      <td>405000.000000</td>\n",
       "      <td>2.954083e+06</td>\n",
       "    </tr>\n",
       "  </tbody>\n",
       "</table>\n",
       "</div>"
      ],
      "text/plain": [
       "                  id     model_year         milage        target\n",
       "count  153678.000000  153678.000000  153678.000000  1.536780e+05\n",
       "mean   110673.150809    2015.808828   65886.747804  4.371700e+04\n",
       "std     44959.391475       5.668564   49833.732540  7.913659e+04\n",
       "min     32822.000000    1974.000000     100.000000  2.000000e+03\n",
       "25%     71728.250000    2013.000000   24280.000000  1.700000e+04\n",
       "50%    110668.500000    2017.000000   57852.000000  3.050000e+04\n",
       "75%    149615.750000    2020.000000   95500.000000  4.970000e+04\n",
       "max    188532.000000    2024.000000  405000.000000  2.954083e+06"
      ]
     },
     "execution_count": 21,
     "metadata": {},
     "output_type": "execute_result"
    }
   ],
   "source": [
    "data.describe()"
   ]
  },
  {
   "cell_type": "code",
   "execution_count": 22,
   "metadata": {},
   "outputs": [],
   "source": [
    "lower_percentile = data['milage'].quantile(0.15)\n",
    "upper_percentile = data['milage'].quantile(0.85)\n",
    "\n",
    "data = data[(data['milage'] >= lower_percentile) & (data['milage'] <= upper_percentile)]\n",
    "\n",
    "lower_target_percentile = data['target'].quantile(0.15)\n",
    "upper_target_percentile = data['target'].quantile(0.85)\n",
    "data = data[(data['target'] >= lower_target_percentile) & (data['target'] <= upper_target_percentile)]"
   ]
  },
  {
   "cell_type": "markdown",
   "metadata": {},
   "source": [
    "# Exploratory Data Analysis"
   ]
  },
  {
   "cell_type": "code",
   "execution_count": 36,
   "metadata": {},
   "outputs": [
    {
     "data": {
      "image/png": "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",
      "text/plain": [
       "<Figure size 800x600 with 1 Axes>"
      ]
     },
     "metadata": {},
     "output_type": "display_data"
    }
   ],
   "source": [
    "import matplotlib.pyplot as plt\n",
    "import seaborn as sns\n",
    "\n",
    "plt.figure(figsize=(8, 6))\n",
    "sns.boxplot(x='fuel_type', y='milage', data=data)\n",
    "plt.title('Mileage vs Fuel Type')\n",
    "plt.xlabel('Fuel Type')\n",
    "plt.ylabel('Mileage (mpg)');"
   ]
  },
  {
   "cell_type": "code",
   "execution_count": 45,
   "metadata": {},
   "outputs": [
    {
     "data": {
      "image/png": "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",
      "text/plain": [
       "<Figure size 1600x1000 with 1 Axes>"
      ]
     },
     "metadata": {},
     "output_type": "display_data"
    }
   ],
   "source": [
    "plt.figure(figsize=(16, 10))\n",
    "plt.subplot(2,1,1)\n",
    "sns.countplot(data=data, x='brand', order=data['brand'].value_counts().index)\n",
    "plt.xticks(rotation=90)\n",
    "plt.title('Distribution of Vehicle Brands');"
   ]
  },
  {
   "cell_type": "code",
   "execution_count": 50,
   "metadata": {},
   "outputs": [
    {
     "data": {
      "image/png": "iVBORw0KGgoAAAANSUhEUgAAApMAAAGxCAYAAAA+mj1dAAAAOXRFWHRTb2Z0d2FyZQBNYXRwbG90bGliIHZlcnNpb24zLjcuMiwgaHR0cHM6Ly9tYXRwbG90bGliLm9yZy8pXeV/AAAACXBIWXMAAA9hAAAPYQGoP6dpAABVJ0lEQVR4nO3deVgW9f7/8dctCCLCLYKA5FqpabgklqKVuIEp2q4djDTXDqZScixPnbLl4L6cMs02LZesk2mdVEJzScMVo8StTrlggngUb1wIEOb3Rz/m6y24TSigz8d1zXU5M++Zz2fG++Z+8Zl7BpthGIYAAAAACyqVdQcAAABQcREmAQAAYBlhEgAAAJYRJgEAAGAZYRIAAACWESYBAABgGWESAAAAlhEmAQAAYBlhEgAAAJYRJgE4mTt3rmw2mzlVqVJFgYGB6tixo8aNG6fMzMxi24wdO1Y2m+2K2jlz5ozGjh2rtWvXXtF2JbVVv359RUZGXtF+LmXhwoWaPn16ietsNpvGjh1bqu2Vtm+++UatW7eWp6enbDabli5dWmLd/v37nf6/z51at2591foXFhamsLCwC64//3V4oal+/fpXrY8ALo9rWXcAQPk0Z84c3XbbbcrPz1dmZqY2bNigCRMmaPLkyfrkk0/UpUsXs3bQoEHq1q3bFe3/zJkzeuWVVyTpoqHifFbasmLhwoVKTU1VbGxssXUbN25U7dq1r3ofrDIMQ71791ajRo305ZdfytPTU40bN77oNsOHD1dUVJTTsmrVql3Nbl5Ujx49tHHjRqdloaGheuSRRzRq1Chzmbu7+7XuGoDzECYBlCg4ONhpZOrhhx/WM888o7vvvlsPPfSQfv75ZwUEBEiSateufdXD1ZkzZ1S1atVr0taltG3btkzbv5TDhw/r+PHjevDBB9W5c+fL2qZu3brl6rhq1qypmjVrFlseEBBQrvoJgMvcAK5A3bp1NWXKFJ08eVKzZ882l5d06Xn16tUKCwuTr6+vPDw8VLduXT388MM6c+aM9u/fbwaFV155xbxk2b9/f6f9bd++XY888oh8fHx0yy23XLCtIkuWLFHz5s1VpUoV3XzzzXrjjTec1hddOt2/f7/T8rVr18pms5mX3MPCwrRs2TIdOHDA6ZJqkZIuc6empur++++Xj4+PqlSpopYtW+rDDz8ssZ2PP/5YL7zwgoKCguTt7a0uXbpo7969Fz7x59iwYYM6d+4sLy8vVa1aVe3atdOyZcvM9WPHjjXD9nPPPVcql4IvdEm6f//+xfadl5en119/Xbfddpvc3d1Vs2ZNPfnkkzp69Oif6sP5Tp06perVq2vo0KHF1u3fv18uLi6aNGmSpP/7f1+5cqWefPJJ1ahRQ56enurZs6d+/fXXYtuvWrVKnTt3lre3t6pWrar27dvrm2++cao5evSohgwZojp16pjH2b59e61atapUjxOoCAiTAK5I9+7d5eLiom+//faCNfv371ePHj3k5uamDz74QAkJCRo/frw8PT2Vl5enWrVqKSEhQZI0cOBAbdy4URs3btQ//vEPp/089NBDuvXWW/Xvf/9bb7/99kX7lZKSotjYWD3zzDNasmSJ2rVrp5EjR2ry5MlXfIwzZ85U+/btFRgYaPbt/Euu59q7d6/atWunnTt36o033tDnn3+upk2bqn///po4cWKx+r///e86cOCA3nvvPb3zzjv6+eef1bNnTxUUFFy0X+vWrVOnTp3kcDj0/vvv6+OPP5aXl5d69uypTz75RNIfXwP4/PPPJf1x6Xrjxo1asmTJJY+5sLBQZ8+edZoMw7jkdufv4/7779f48eMVFRWlZcuWafz48Vq5cqXCwsKUk5NzRfu7mGrVqmnAgAFasGCBHA6H07qZM2fKzc1NAwYMcFo+cOBAVapUyfw+7JYtWxQWFqYTJ06YNfPnz1d4eLi8vb314Ycf6tNPP1WNGjUUERHhFCijo6O1dOlSvfTSS0pMTNR7772nLl266NixY6V2jECFYQDAOebMmWNIMrZu3XrBmoCAAKNJkybm/Msvv2yc++Pks88+MyQZKSkpF9zH0aNHDUnGyy+/XGxd0f5eeumlC647V7169QybzVasva5duxre3t7G6dOnnY5t3759TnVr1qwxJBlr1qwxl/Xo0cOoV69eiX0/v9+PPfaY4e7ubhw8eNCp7r777jOqVq1qnDhxwqmd7t27O9V9+umnhiRj48aNJbZXpG3btoa/v79x8uRJc9nZs2eN4OBgo3bt2kZhYaFhGIaxb98+Q5IxadKki+7v3NqSppUrVxqGYRgdOnQwOnToUGzbfv36OZ2jjz/+2JBkLF682Klu69athiRj5syZ5rIL7fNiJBnDhg0z53/55RejUqVKxrRp08xlOTk5hq+vr/Hkk0+ay4r+3x988EGn/X333XeGJOP11183DMMwTp8+bdSoUcPo2bOnU11BQYHRokUL46677jKXVatWzYiNjb2i/gPXK0YmAVwx4xIjVi1btpSbm5uGDBmiDz/8sMRLiZfj4Ycfvuza22+/XS1atHBaFhUVpezsbG3fvt1S+5dr9erV6ty5s+rUqeO0vH///jpz5kyxUc1evXo5zTdv3lySdODAgQu2cfr0aW3evFmPPPKI040xLi4uio6O1qFDhy77UnlJRo4cqa1btzpNbdq0uaJ9fPXVV6pevbp69uzpNMLZsmVLBQYGXvGd+5dy8803KzIyUjNnzjRfkwsXLtSxY8f09NNPF6vv27ev03y7du1Ur149rVmzRpKUlJSk48ePq1+/fk79LywsVLdu3bR161adPn1aknTXXXdp7ty5ev3117Vp0ybl5+eX6rEBFQlhEsAVOX36tI4dO6agoKAL1txyyy1atWqV/P39NWzYMN1yyy265ZZb9K9//euK2qpVq9Zl1wYGBl5w2dW+9Hjs2LES+1p0js5v39fX12m+6I7ki10GzsrKkmEYV9TOlahdu7Zat27tNHl5eV3RPo4cOaITJ07Izc1NlStXdpoyMjL0v//9z3L/LmTkyJH6+eeftXLlSknSW2+9pdDQULVq1apY7YVeI0Xn7ciRI5KkRx55pFj/J0yYIMMwdPz4cUnSJ598on79+um9995TaGioatSooSeeeEIZGRmlfoxAecfd3ACuyLJly1RQUHDJx/ncc889uueee1RQUKBt27bpzTffVGxsrAICAvTYY49dVltX8uzKkj7Ei5YVhbcqVapIknJzc53q/mzI8fX1VXp6erHlhw8fliT5+fn9qf1Lko+PjypVqnTV2ylJlSpVin0vUSp+3vz8/OTr62t+H/Z8VxpOL0enTp0UHBysGTNmqFq1atq+fbvmz59fYu2FXiO33nqrpP87f2+++eYF7xgveoKBn5+fpk+frunTp+vgwYP68ssv9fzzzyszM/OCxw9crxiZBHDZDh48qLi4ONnt9hLvoi2Ji4uL2rRpo7feekuSzEvOlzMadyV27typH374wWnZwoUL5eXlZY5SFd15/OOPPzrVffnll8X25+7uftl969y5s1avXm2GuiIfffSRqlatWiqPsvH09FSbNm30+eefO/WrsLBQ8+fPV+3atdWoUaM/3U5J6tevr59++skphB87dkxJSUlOdZGRkTp27JgKCgqKjXK2bt36ks+6tGrEiBFatmyZxowZo4CAAD366KMl1i1YsMBpPikpSQcOHDB/MWrfvr2qV6+uXbt2ldj/1q1by83Nrdh+69atq6efflpdu3a96l+pAMojRiYBlCg1NdX8zlhmZqbWr1+vOXPmyMXFRUuWLCnxGYBF3n77ba1evVo9evRQ3bp19fvvv+uDDz6QJPNh515eXqpXr56++OILde7cWTVq1JCfn5/lx9gEBQWpV69eGjt2rGrVqqX58+dr5cqVmjBhgqpWrSpJuvPOO9W4cWPFxcXp7Nmz8vHx0ZIlS7Rhw4Zi+2vWrJk+//xzzZo1SyEhIapUqdIF/yLMyy+/rK+++kodO3bUSy+9pBo1amjBggVatmyZJk6cKLvdbumYzjdu3Dh17dpVHTt2VFxcnNzc3DRz5kylpqbq448/vuK/QnS5oqOjNXv2bD3++OMaPHiwjh07pokTJ8rb29up7rHHHtOCBQvUvXt3jRw5UnfddZcqV66sQ4cOac2aNbr//vv14IMPlnr/Hn/8cY0ZM0bffvutXnzxxRIDnyRt27ZNgwYN0qOPPqq0tDS98MILuummmxQTEyPpjzvE33zzTfXr10/Hjx/XI488In9/fx09elQ//PCDjh49qlmzZsnhcKhjx46KiorSbbfdJi8vL23dulUJCQl66KGHSv34gHKvbO//AVDeFN35WjS5ubkZ/v7+RocOHYz4+HgjMzOz2Dbn32G9ceNG48EHHzTq1atnuLu7G76+vkaHDh2ML7/80mm7VatWGXfccYfh7u5uSDL69evntL+jR49esi3D+ONu7h49ehifffaZcfvttxtubm5G/fr1jalTpxbb/qeffjLCw8MNb29vo2bNmsbw4cONZcuWFbub+/jx48YjjzxiVK9e3bDZbE5tqoS70Hfs2GH07NnTsNvthpubm9GiRQtjzpw5TjVFd3P/+9//dlpedEf1+fUlWb9+vdGpUyfD09PT8PDwMNq2bWv85z//KXF/V3I396VqP/zwQ6NJkyZGlSpVjKZNmxqffPJJsbu5DcMw8vPzjcmTJxstWrQwqlSpYlSrVs247bbbjKFDhxo///yzWVcad3Ofq3///oarq6tx6NChYuuKXtOJiYlGdHS0Ub16dcPDw8Po3r27U5+KrFu3zujRo4dRo0YNo3LlysZNN91k9OjRw/x/+/33342nnnrKaN68ueHt7W14eHgYjRs3Nl5++WXzyQHAjcRmGFf4IDEAAMqRvLw81a9fX3fffbc+/fTTYuvnzp2rJ598Ulu3br2qf28cuFFxmRsAUCEdPXpUe/fu1Zw5c3TkyBE9//zzZd0l4IZEmAQAVEjLli3Tk08+qVq1amnmzJklPg4IwNXHZW4AAABYxqOBAAAAYBlhEgAAAJYRJgEAAGBZmd6AU79+fR04cKDY8piYGL311lsyDEOvvPKK3nnnHWVlZZl/ReP22283a3NzcxUXF6ePP/5YOTk56ty5s2bOnKnatWubNVlZWRoxYoT5Vy569eqlN998U9WrVzdrDh48qGHDhmn16tXy8PBQVFSUJk+efMGH35aksLBQhw8flpeX11V7eDAAAMDVYhiGTp48qaCgIFWqdJljjmX5kMvMzEwjPT3dnFauXOn04ODx48cbXl5exuLFi40dO3YYffr0MWrVqmVkZ2eb+3jqqaeMm266yVi5cqWxfft2o2PHjkaLFi2Ms2fPmjXdunUzgoODjaSkJCMpKckIDg42IiMjzfVnz541goODjY4dOxrbt283Vq5caQQFBRlPP/30FR1PWlqa08OemZiYmJiYmJgq4pSWlnbZ+adc3c0dGxurr776Sj///LOkP/48WmxsrJ577jlJf4xCBgQEaMKECRo6dKgcDodq1qypefPmqU+fPpKkw4cPq06dOlq+fLkiIiK0e/duNW3aVJs2bVKbNm0kSZs2bVJoaKj27Nmjxo0ba8WKFYqMjFRaWpqCgoIkSYsWLVL//v2VmZlZ7E+GXYjD4VD16tWVlpZ22dsAAACUF9nZ2apTp45OnDhx2X8Kttw8ZzIvL0/z58/Xs88+K5vNpl9//VUZGRkKDw83a9zd3dWhQwclJSVp6NChSk5OVn5+vlNNUFCQgoODlZSUpIiICG3cuFF2u90MkpLUtm1b2e12JSUlqXHjxtq4caOCg4PNIClJERERys3NVXJysjp27Fhin3Nzc5Wbm2vOnzx5UpLk7e1NmAQAABXWlXxdr9zcgLN06VKdOHFC/fv3lyRlZGRIkgICApzqAgICzHUZGRlyc3OTj4/PRWv8/f2Ltefv7+9Uc347Pj4+cnNzM2tKMm7cONntdnOqU6fOFRwxAABAxVduwuT777+v++67z2l0UCqejA3DuGRaPr+mpHorNecbM2aMHA6HOaWlpV20XwAAANebchEmDxw4oFWrVmnQoEHmssDAQEkqNjKYmZlpjiIGBgYqLy9PWVlZF605cuRIsTaPHj3qVHN+O1lZWcrPzy82Ynkud3d385I2l7YBAMCNqFyEyTlz5sjf3189evQwlzVo0ECBgYFauXKluSwvL0/r1q1Tu3btJEkhISGqXLmyU016erpSU1PNmtDQUDkcDm3ZssWs2bx5sxwOh1NNamqq0tPTzZrExES5u7srJCTk6hw0AADAdaDMb8ApLCzUnDlz1K9fP7m6/l93bDabYmNjFR8fr4YNG6phw4aKj49X1apVFRUVJUmy2+0aOHCgRo0aJV9fX9WoUUNxcXFq1qyZunTpIklq0qSJunXrpsGDB2v27NmSpCFDhigyMlKNGzeWJIWHh6tp06aKjo7WpEmTdPz4ccXFxWnw4MGMNgIAAFxEmYfJVatW6eDBgxowYECxdaNHj1ZOTo5iYmLMh5YnJibKy8vLrJk2bZpcXV3Vu3dv86Hlc+fOlYuLi1mzYMECjRgxwrzru1evXpoxY4a53sXFRcuWLVNMTIzat2/v9NByAAAAXFi5es5kRZednS273S6Hw8GIJgAAqHCsZJly8Z1JAAAAVEyESQAAAFhGmAQAAIBlhEkAAABYRpgEAACAZYRJAAAAWFbmz5m8EYX87aOy7kKFkTzpibLuAgAAuAhGJgEAAGAZYRIAAACWESYBAABgGWESAAAAlhEmAQAAYBlhEgAAAJYRJgEAAGAZYRIAAACWESYBAABgGWESAAAAlhEmAQAAYBlhEgAAAJYRJgEAAGAZYRIAAACWESYBAABgGWESAAAAlhEmAQAAYBlhEgAAAJYRJgEAAGAZYRIAAACWESYBAABgGWESAAAAlhEmAQAAYBlhEgAAAJYRJgEAAGAZYRIAAACWESYBAABgGWESAAAAlhEmAQAAYBlhEgAAAJYRJgEAAGAZYRIAAACWlXmY/O233/T444/L19dXVatWVcuWLZWcnGyuNwxDY8eOVVBQkDw8PBQWFqadO3c67SM3N1fDhw+Xn5+fPD091atXLx06dMipJisrS9HR0bLb7bLb7YqOjtaJEyecag4ePKiePXvK09NTfn5+GjFihPLy8q7asQMAAFR0ZRoms7Ky1L59e1WuXFkrVqzQrl27NGXKFFWvXt2smThxoqZOnaoZM2Zo69atCgwMVNeuXXXy5EmzJjY2VkuWLNGiRYu0YcMGnTp1SpGRkSooKDBroqKilJKSooSEBCUkJCglJUXR0dHm+oKCAvXo0UOnT5/Whg0btGjRIi1evFijRo26JucCAACgIrIZhmGUVePPP/+8vvvuO61fv77E9YZhKCgoSLGxsXruueck/TEKGRAQoAkTJmjo0KFyOByqWbOm5s2bpz59+kiSDh8+rDp16mj58uWKiIjQ7t271bRpU23atElt2rSRJG3atEmhoaHas2ePGjdurBUrVigyMlJpaWkKCgqSJC1atEj9+/dXZmamvL29L3k82dnZstvtcjgcF60P+dtHV3SebmTJk54o6y4AAHDDuNwsc64yHZn88ssv1bp1az366KPy9/fXHXfcoXfffddcv2/fPmVkZCg8PNxc5u7urg4dOigpKUmSlJycrPz8fKeaoKAgBQcHmzUbN26U3W43g6QktW3bVna73akmODjYDJKSFBERodzcXKfL7ufKzc1Vdna20wQAAHAjKdMw+euvv2rWrFlq2LChvv76az311FMaMWKEPvroj5G7jIwMSVJAQIDTdgEBAea6jIwMubm5ycfH56I1/v7+xdr39/d3qjm/HR8fH7m5uZk15xs3bpz5HUy73a46depc6SkAAACo0Mo0TBYWFqpVq1aKj4/XHXfcoaFDh2rw4MGaNWuWU53NZnOaNwyj2LLznV9TUr2VmnONGTNGDofDnNLS0i7aJwAAgOtNmYbJWrVqqWnTpk7LmjRpooMHD0qSAgMDJanYyGBmZqY5ihgYGKi8vDxlZWVdtObIkSPF2j969KhTzfntZGVlKT8/v9iIZRF3d3d5e3s7TQAAADeSMg2T7du31969e52W/fTTT6pXr54kqUGDBgoMDNTKlSvN9Xl5eVq3bp3atWsnSQoJCVHlypWdatLT05WammrWhIaGyuFwaMuWLWbN5s2b5XA4nGpSU1OVnp5u1iQmJsrd3V0hISGlfOQAAADXB9eybPyZZ55Ru3btFB8fr969e2vLli1655139M4770j647JzbGys4uPj1bBhQzVs2FDx8fGqWrWqoqKiJEl2u10DBw7UqFGj5Ovrqxo1aiguLk7NmjVTly5dJP0x2tmtWzcNHjxYs2fPliQNGTJEkZGRaty4sSQpPDxcTZs2VXR0tCZNmqTjx48rLi5OgwcPZsQRAADgAso0TN55551asmSJxowZo1dffVUNGjTQ9OnT1bdvX7Nm9OjRysnJUUxMjLKystSmTRslJibKy8vLrJk2bZpcXV3Vu3dv5eTkqHPnzpo7d65cXFzMmgULFmjEiBHmXd+9evXSjBkzzPUuLi5atmyZYmJi1L59e3l4eCgqKkqTJ0++BmcCAACgYirT50xeb3jOZOnjOZMAAFw7Fe45kwAAAKjYCJMAAACwjDAJAAAAywiTAAAAsIwwCQAAAMsIkwAAALCMMAkAAADLCJMAAACwjDAJAAAAywiTAAAAsIwwCQAAAMsIkwAAALCMMAkAAADLCJMAAACwjDAJAAAAywiTAAAAsIwwCQAAAMsIkwAAALCMMAkAAADLCJMAAACwjDAJAAAAywiTAAAAsIwwCQAAAMsIkwAAALCMMAkAAADLCJMAAACwjDAJAAAAywiTAAAAsIwwCQAAAMsIkwAAALCMMAkAAADLCJMAAACwjDAJAAAAywiTAAAAsIwwCQAAAMsIkwAAALCMMAkAAADLCJMAAACwrEzD5NixY2Wz2ZymwMBAc71hGBo7dqyCgoLk4eGhsLAw7dy502kfubm5Gj58uPz8/OTp6alevXrp0KFDTjVZWVmKjo6W3W6X3W5XdHS0Tpw44VRz8OBB9ezZU56envLz89OIESOUl5d31Y4dAADgelDmI5O333670tPTzWnHjh3muokTJ2rq1KmaMWOGtm7dqsDAQHXt2lUnT540a2JjY7VkyRItWrRIGzZs0KlTpxQZGamCggKzJioqSikpKUpISFBCQoJSUlIUHR1tri8oKFCPHj10+vRpbdiwQYsWLdLixYs1atSoa3MSAAAAKijXMu+Aq6vTaGQRwzA0ffp0vfDCC3rooYckSR9++KECAgK0cOFCDR06VA6HQ++//77mzZunLl26SJLmz5+vOnXqaNWqVYqIiNDu3buVkJCgTZs2qU2bNpKkd999V6Ghodq7d68aN26sxMRE7dq1S2lpaQoKCpIkTZkyRf3799c///lPeXt7X6OzAQAAULGU+cjkzz//rKCgIDVo0ECPPfaYfv31V0nSvn37lJGRofDwcLPW3d1dHTp0UFJSkiQpOTlZ+fn5TjVBQUEKDg42azZu3Ci73W4GSUlq27at7Ha7U01wcLAZJCUpIiJCubm5Sk5OvmDfc3NzlZ2d7TQBAADcSMo0TLZp00YfffSRvv76a7377rvKyMhQu3btdOzYMWVkZEiSAgICnLYJCAgw12VkZMjNzU0+Pj4XrfH39y/Wtr+/v1PN+e34+PjIzc3NrCnJuHHjzO9h2u121alT5wrPAAAAQMVWpmHyvvvu08MPP6xmzZqpS5cuWrZsmaQ/LmcXsdlsTtsYhlFs2fnOrymp3krN+caMGSOHw2FOaWlpF+0XAADA9abML3Ofy9PTU82aNdPPP/9sfo/y/JHBzMxMcxQxMDBQeXl5ysrKumjNkSNHirV19OhRp5rz28nKylJ+fn6xEctzubu7y9vb22kCAAC4kZSrMJmbm6vdu3erVq1aatCggQIDA7Vy5UpzfV5entatW6d27dpJkkJCQlS5cmWnmvT0dKWmppo1oaGhcjgc2rJli1mzefNmORwOp5rU1FSlp6ebNYmJiXJ3d1dISMhVPWYAAICKrEzv5o6Li1PPnj1Vt25dZWZm6vXXX1d2drb69esnm82m2NhYxcfHq2HDhmrYsKHi4+NVtWpVRUVFSZLsdrsGDhyoUaNGydfXVzVq1FBcXJx52VySmjRpom7dumnw4MGaPXu2JGnIkCGKjIxU48aNJUnh4eFq2rSpoqOjNWnSJB0/flxxcXEaPHgwo40AAAAXUaZh8tChQ/rLX/6i//3vf6pZs6batm2rTZs2qV69epKk0aNHKycnRzExMcrKylKbNm2UmJgoLy8vcx/Tpk2Tq6urevfurZycHHXu3Flz586Vi4uLWbNgwQKNGDHCvOu7V69emjFjhrnexcVFy5YtU0xMjNq3by8PDw9FRUVp8uTJ1+hMAAAAVEw2wzCMsu7E9SI7O1t2u10Oh+OiI5ohf/voGvaqYkue9ERZdwEAgBvG5WaZc5Wr70wCAACgYiFMAgAAwDLCJAAAACwjTAIAAMAywiQAAAAsI0wCAADAMsIkAAAALCNMAgAAwDLCJAAAACwjTAIAAMAywiQAAAAsI0wCAADAMsIkAAAALCNMAgAAwDLCJAAAACwjTAIAAMAywiQAAAAsI0wCAADAMsIkAAAALCNMAgAAwDLCJAAAACwjTAIAAMAywiQAAAAsI0wCAADAMsIkAAAALCNMAgAAwDLCJAAAACwjTAIAAMAywiQAAAAsI0wCAADAMsIkAAAALCNMAgAAwDLCJAAAACwjTAIAAMAywiQAAAAsI0wCAADAMsIkAAAALCNMAgAAwDLCJAAAACwrN2Fy3Lhxstlsio2NNZcZhqGxY8cqKChIHh4eCgsL086dO522y83N1fDhw+Xn5ydPT0/16tVLhw4dcqrJyspSdHS07Ha77Ha7oqOjdeLECaeagwcPqmfPnvL09JSfn59GjBihvLy8q3W4AAAA14VyESa3bt2qd955R82bN3daPnHiRE2dOlUzZszQ1q1bFRgYqK5du+rkyZNmTWxsrJYsWaJFixZpw4YNOnXqlCIjI1VQUGDWREVFKSUlRQkJCUpISFBKSoqio6PN9QUFBerRo4dOnz6tDRs2aNGiRVq8eLFGjRp19Q8eAACgAivzMHnq1Cn17dtX7777rnx8fMzlhmFo+vTpeuGFF/TQQw8pODhYH374oc6cOaOFCxdKkhwOh95//31NmTJFXbp00R133KH58+drx44dWrVqlSRp9+7dSkhI0HvvvafQ0FCFhobq3Xff1VdffaW9e/dKkhITE7Vr1y7Nnz9fd9xxh7p06aIpU6bo3XffVXZ29rU/KQAAABVEmYfJYcOGqUePHurSpYvT8n379ikjI0Ph4eHmMnd3d3Xo0EFJSUmSpOTkZOXn5zvVBAUFKTg42KzZuHGj7Ha72rRpY9a0bdtWdrvdqSY4OFhBQUFmTUREhHJzc5WcnHzBvufm5io7O9tpAgAAuJG4lmXjixYt0vbt27V169Zi6zIyMiRJAQEBTssDAgJ04MABs8bNzc1pRLOopmj7jIwM+fv7F9u/v7+/U8357fj4+MjNzc2sKcm4ceP0yiuvXOowAQAArltlNjKZlpamkSNHav78+apSpcoF62w2m9O8YRjFlp3v/JqS6q3UnG/MmDFyOBzmlJaWdtF+AQAAXG/KLEwmJycrMzNTISEhcnV1laurq9atW6c33nhDrq6u5kjh+SODmZmZ5rrAwEDl5eUpKyvrojVHjhwp1v7Ro0edas5vJysrS/n5+cVGLM/l7u4ub29vpwkAAOBGUmZhsnPnztqxY4dSUlLMqXXr1urbt69SUlJ08803KzAwUCtXrjS3ycvL07p169SuXTtJUkhIiCpXruxUk56ertTUVLMmNDRUDodDW7ZsMWs2b94sh8PhVJOamqr09HSzJjExUe7u7goJCbmq5wEAAKAiK7PvTHp5eSk4ONhpmaenp3x9fc3lsbGxio+PV8OGDdWwYUPFx8eratWqioqKkiTZ7XYNHDhQo0aNkq+vr2rUqKG4uDg1a9bMvKGnSZMm6tatmwYPHqzZs2dLkoYMGaLIyEg1btxYkhQeHq6mTZsqOjpakyZN0vHjxxUXF6fBgwcz2ggAAHARZXoDzqWMHj1aOTk5iomJUVZWltq0aaPExER5eXmZNdOmTZOrq6t69+6tnJwcde7cWXPnzpWLi4tZs2DBAo0YMcK867tXr16aMWOGud7FxUXLli1TTEyM2rdvLw8PD0VFRWny5MnX7mABAAAqIJthGMaVbtSpUyd9/vnnql69utPy7OxsPfDAA1q9enVp9a9Cyc7Olt1ul8PhuOiIZsjfPrqGvarYkic9UdZdAADghnG5WeZclr4zuXbt2hL/1ODvv/+u9evXW9klAAAAKqArusz9448/mv/etWuX0x3QBQUFSkhI0E033VR6vQMAAEC5dkVhsmXLlrLZbLLZbOrUqVOx9R4eHnrzzTdLrXMAAAAo364oTO7bt0+GYejmm2/Wli1bVLNmTXOdm5ub/P39nW58AQAAwPXtisJkvXr1JEmFhYVXpTMAAACoWCw/Guinn37S2rVrlZmZWSxcvvTSS3+6YwAAACj/LIXJd999V3/961/l5+enwMDAYn/jmjAJAABwY7AUJl9//XX985//1HPPPVfa/QEAAEAFYuk5k1lZWXr00UdLuy8AAACoYCyFyUcffVSJiYml3RcAAABUMJYuc9966636xz/+oU2bNqlZs2aqXLmy0/oRI0aUSucAAABQvlkKk++8846qVaumdevWad26dU7rbDYbYRIAAOAGYSlM7tu3r7T7AQAAgArI0ncmAQAAAMniyOSAAQMuuv6DDz6w1BkAAABULJbCZFZWltN8fn6+UlNTdeLECXXq1KlUOgYAAIDyz1KYXLJkSbFlhYWFiomJ0c033/ynOwUAAICKodS+M1mpUiU988wzmjZtWmntEgAAAOVcqd6A88svv+js2bOluUsAAACUY5Yucz/77LNO84ZhKD09XcuWLVO/fv1KpWMAAAAo/yyFye+//95pvlKlSqpZs6amTJlyyTu9AQAAcP2wFCbXrFlT2v0AAABABWQpTBY5evSo9u7dK5vNpkaNGqlmzZql1S8AAABUAJZuwDl9+rQGDBigWrVq6d5779U999yjoKAgDRw4UGfOnCntPgIAAKCcshQmn332Wa1bt07/+c9/dOLECZ04cUJffPGF1q1bp1GjRpV2HwEAAFBOWbrMvXjxYn322WcKCwszl3Xv3l0eHh7q3bu3Zs2aVVr9AwAAQDlmaWTyzJkzCggIKLbc39+fy9wAAAA3EEthMjQ0VC+//LJ+//13c1lOTo5eeeUVhYaGllrnAAAAUL5Zusw9ffp03Xfffapdu7ZatGghm82mlJQUubu7KzExsbT7CAAAgHLKUphs1qyZfv75Z82fP1979uyRYRh67LHH1LdvX3l4eJR2HwEAAFBOWQqT48aNU0BAgAYPHuy0/IMPPtDRo0f13HPPlUrnAAAAUL5Z+s7k7NmzddtttxVbfvvtt+vtt9/+050CAABAxWApTGZkZKhWrVrFltesWVPp6el/ulMAAACoGCyFyTp16ui7774rtvy7775TUFDQn+4UAAAAKgZL35kcNGiQYmNjlZ+fr06dOkmSvvnmG40ePZq/gAMAAHADsRQmR48erePHjysmJkZ5eXmSpCpVqui5557TmDFjSrWDAAAAKL8shUmbzaYJEyboH//4h3bv3i0PDw81bNhQ7u7upd0/AAAAlGOWwmSRatWq6c477yytvgAAAKCCsXQDTmmZNWuWmjdvLm9vb3l7eys0NFQrVqww1xuGobFjxyooKEgeHh4KCwvTzp07nfaRm5ur4cOHy8/PT56enurVq5cOHTrkVJOVlaXo6GjZ7XbZ7XZFR0frxIkTTjUHDx5Uz5495enpKT8/P40YMcK8hA8AAICSlWmYrF27tsaPH69t27Zp27Zt6tSpk+6//34zME6cOFFTp07VjBkztHXrVgUGBqpr1646efKkuY/Y2FgtWbJEixYt0oYNG3Tq1ClFRkaqoKDArImKilJKSooSEhKUkJCglJQURUdHm+sLCgrUo0cPnT59Whs2bNCiRYu0ePFibiYCAAC4BJthGEZZd+JcNWrU0KRJkzRgwAAFBQUpNjbW/Is6ubm5CggI0IQJEzR06FA5HA7VrFlT8+bNU58+fSRJhw8fVp06dbR8+XJFRERo9+7datq0qTZt2qQ2bdpIkjZt2qTQ0FDt2bNHjRs31ooVKxQZGam0tDTz0UaLFi1S//79lZmZKW9v78vqe3Z2tux2uxwOx0W3CfnbR3/mFN1Qkic9UdZdAADghnG5WeZcZToyea6CggItWrRIp0+fVmhoqPbt26eMjAyFh4ebNe7u7urQoYOSkpIkScnJycrPz3eqCQoKUnBwsFmzceNG2e12M0hKUtu2bWW3251qgoODnZ6RGRERodzcXCUnJ1+wz7m5ucrOznaaAAAAbiRlHiZ37NihatWqyd3dXU899ZSWLFmipk2bKiMjQ5IUEBDgVB8QEGCuy8jIkJubm3x8fC5a4+/vX6xdf39/p5rz2/Hx8ZGbm5tZU5Jx48aZ38O02+2qU6fOFR49AABAxVbmYbJx48ZKSUnRpk2b9Ne//lX9+vXTrl27zPU2m82p3jCMYsvOd35NSfVWas43ZswYORwOc0pLS7tovwAAAK43ZR4m3dzcdOutt6p169YaN26cWrRooX/9618KDAyUpGIjg5mZmeYoYmBgoPLy8pSVlXXRmiNHjhRr9+jRo04157eTlZWl/Pz8YiOW53J3dzfvRC+aAAAAbiRlHibPZxiGcnNz1aBBAwUGBmrlypXmury8PK1bt07t2rWTJIWEhKhy5cpONenp6UpNTTVrQkND5XA4tGXLFrNm8+bNcjgcTjWpqalKT083axITE+Xu7q6QkJCrerwAAAAV2Z96aPmf9fe//1333Xef6tSpo5MnT2rRokVau3atEhISZLPZFBsbq/j4eDVs2FANGzZUfHy8qlatqqioKEmS3W7XwIEDNWrUKPn6+qpGjRqKi4tTs2bN1KVLF0lSkyZN1K1bNw0ePFizZ8+WJA0ZMkSRkZFq3LixJCk8PFxNmzZVdHS0Jk2apOPHjysuLk6DBw9mtBEAAOAiyjRMHjlyRNHR0UpPT5fdblfz5s2VkJCgrl27Svrjb4Dn5OQoJiZGWVlZatOmjRITE+Xl5WXuY9q0aXJ1dVXv3r2Vk5Ojzp07a+7cuXJxcTFrFixYoBEjRph3fffq1UszZsww17u4uGjZsmWKiYlR+/bt5eHhoaioKE2ePPkanQkAAICKqdw9Z7Ii4zmTpY/nTAIAcO1U6OdMAgAAoOIhTAIAAMAywiQAAAAsI0wCAADAMsIkAAAALCNMAgAAwDLCJAAAACwjTAIAAMAywiQAAAAsI0wCAADAMsIkAAAALCNMAgAAwDLCJAAAACwjTAIAAMAywiQAAAAsI0wCAADAMsIkAAAALCNMAgAAwDLCJAAAACwjTAIAAMAywiQAAAAsI0wCAADAMsIkAAAALCNMAgAAwDLCJAAAACwjTAIAAMAywiQAAAAsI0wCAADAMsIkAAAALCNMAgAAwDLCJAAAACwjTAIAAMAywiQAAAAsI0wCAADAMsIkAAAALCNMAgAAwDLCJAAAACwjTAIAAMAywiQAAAAsK9MwOW7cON15553y8vKSv7+/HnjgAe3du9epxjAMjR07VkFBQfLw8FBYWJh27tzpVJObm6vhw4fLz89Pnp6e6tWrlw4dOuRUk5WVpejoaNntdtntdkVHR+vEiRNONQcPHlTPnj3l6ekpPz8/jRgxQnl5eVfl2AEAAK4HZRom161bp2HDhmnTpk1auXKlzp49q/DwcJ0+fdqsmThxoqZOnaoZM2Zo69atCgwMVNeuXXXy5EmzJjY2VkuWLNGiRYu0YcMGnTp1SpGRkSooKDBroqKilJKSooSEBCUkJCglJUXR0dHm+oKCAvXo0UOnT5/Whg0btGjRIi1evFijRo26NicDAACgArIZhmGUdSeKHD16VP7+/lq3bp3uvfdeGYahoKAgxcbG6rnnnpP0xyhkQECAJkyYoKFDh8rhcKhmzZqaN2+e+vTpI0k6fPiw6tSpo+XLlysiIkK7d+9W06ZNtWnTJrVp00aStGnTJoWGhmrPnj1q3LixVqxYocjISKWlpSkoKEiStGjRIvXv31+ZmZny9va+ZP+zs7Nlt9vlcDguWh/yt4/+7Km6YSRPeqKsuwAAwA3jcrPMucrVdyYdDockqUaNGpKkffv2KSMjQ+Hh4WaNu7u7OnTooKSkJElScnKy8vPznWqCgoIUHBxs1mzcuFF2u90MkpLUtm1b2e12p5rg4GAzSEpSRESEcnNzlZycXGJ/c3NzlZ2d7TQBAADcSMpNmDQMQ88++6zuvvtuBQcHS5IyMjIkSQEBAU61AQEB5rqMjAy5ubnJx8fnojX+/v7F2vT393eqOb8dHx8fubm5mTXnGzdunPkdTLvdrjp16lzpYQMAAFRo5SZMPv300/rxxx/18ccfF1tns9mc5g3DKLbsfOfXlFRvpeZcY8aMkcPhMKe0tLSL9gkAAOB6Uy7C5PDhw/Xll19qzZo1ql27trk8MDBQkoqNDGZmZpqjiIGBgcrLy1NWVtZFa44cOVKs3aNHjzrVnN9OVlaW8vPzi41YFnF3d5e3t7fTBAAAcCMp0zBpGIaefvppff7551q9erUaNGjgtL5BgwYKDAzUypUrzWV5eXlat26d2rVrJ0kKCQlR5cqVnWrS09OVmppq1oSGhsrhcGjLli1mzebNm+VwOJxqUlNTlZ6ebtYkJibK3d1dISEhpX/wAAAA1wHXsmx82LBhWrhwob744gt5eXmZI4N2u10eHh6y2WyKjY1VfHy8GjZsqIYNGyo+Pl5Vq1ZVVFSUWTtw4ECNGjVKvr6+qlGjhuLi4tSsWTN16dJFktSkSRN169ZNgwcP1uzZsyVJQ4YMUWRkpBo3bixJCg8PV9OmTRUdHa1Jkybp+PHjiouL0+DBgxlxBAAAuIAyDZOzZs2SJIWFhTktnzNnjvr37y9JGj16tHJychQTE6OsrCy1adNGiYmJ8vLyMuunTZsmV1dX9e7dWzk5OercubPmzp0rFxcXs2bBggUaMWKEedd3r169NGPGDHO9i4uLli1bppiYGLVv314eHh6KiorS5MmTr9LRAwAAVHzl6jmTFR3PmSx9PGcSAIBrp8I/ZxIAAAAVC2ESAAAAlhEmAQAAYBlhEgAAAJYRJgEAAGAZYRIAAACWESYBAABgGWESAAAAlhEmAQAAYBlhEgAAAJYRJgEAAGAZYRIAAACWESYBAABgGWESAAAAlhEmAQAAYBlhEgAAAJYRJgEAAGAZYRIAAACWESYBAABgGWESAAAAlhEmAQAAYBlhEgAAAJYRJgEAAGAZYRIAAACWESYBAABgGWESAAAAlhEmAQAAYBlhEgAAAJYRJgEAAGAZYRIAAACWESYBAABgGWESAAAAlhEmAQAAYBlhEgAAAJYRJgEAAGAZYRIAAACWESYBAABgGWESAAAAlpVpmPz222/Vs2dPBQUFyWazaenSpU7rDcPQ2LFjFRQUJA8PD4WFhWnnzp1ONbm5uRo+fLj8/Pzk6empXr166dChQ041WVlZio6Olt1ul91uV3R0tE6cOOFUc/DgQfXs2VOenp7y8/PTiBEjlJeXdzUOGwAA4LpRpmHy9OnTatGihWbMmFHi+okTJ2rq1KmaMWOGtm7dqsDAQHXt2lUnT540a2JjY7VkyRItWrRIGzZs0KlTpxQZGamCggKzJioqSikpKUpISFBCQoJSUlIUHR1tri8oKFCPHj10+vRpbdiwQYsWLdLixYs1atSoq3fwAAAA1wGbYRhGWXdCkmw2m5YsWaIHHnhA0h+jkkFBQYqNjdVzzz0n6Y9RyICAAE2YMEFDhw6Vw+FQzZo1NW/ePPXp00eSdPjwYdWpU0fLly9XRESEdu/eraZNm2rTpk1q06aNJGnTpk0KDQ3Vnj171LhxY61YsUKRkZFKS0tTUFCQJGnRokXq37+/MjMz5e3tfVnHkJ2dLbvdLofDcdFtQv72kdXTdMNJnvREWXcBAIAbxuVmmXOV2+9M7tu3TxkZGQoPDzeXubu7q0OHDkpKSpIkJScnKz8/36kmKChIwcHBZs3GjRtlt9vNIClJbdu2ld1ud6oJDg42g6QkRUREKDc3V8nJyRfsY25urrKzs50mAACAG0m5DZMZGRmSpICAAKflAQEB5rqMjAy5ubnJx8fnojX+/v7F9u/v7+9Uc347Pj4+cnNzM2tKMm7cOPN7mHa7XXXq1LnCowQAAKjYym2YLGKz2ZzmDcMotux859eUVG+l5nxjxoyRw+Ewp7S0tIv2CwAA4HpTbsNkYGCgJBUbGczMzDRHEQMDA5WXl6esrKyL1hw5cqTY/o8ePepUc347WVlZys/PLzZieS53d3d5e3s7TQAAADeSchsmGzRooMDAQK1cudJclpeXp3Xr1qldu3aSpJCQEFWuXNmpJj09XampqWZNaGioHA6HtmzZYtZs3rxZDofDqSY1NVXp6elmTWJiotzd3RUSEnJVjxMAAKAicy3Lxk+dOqX//ve/5vy+ffuUkpKiGjVqqG7duoqNjVV8fLwaNmyohg0bKj4+XlWrVlVUVJQkyW63a+DAgRo1apR8fX1Vo0YNxcXFqVmzZurSpYskqUmTJurWrZsGDx6s2bNnS5KGDBmiyMhINW7cWJIUHh6upk2bKjo6WpMmTdLx48cVFxenwYMHM9oIAABwEWUaJrdt26aOHTua888++6wkqV+/fpo7d65Gjx6tnJwcxcTEKCsrS23atFFiYqK8vLzMbaZNmyZXV1f17t1bOTk56ty5s+bOnSsXFxezZsGCBRoxYoR513evXr2cnm3p4uKiZcuWKSYmRu3bt5eHh4eioqI0efLkq30KAAAAKrRy85zJ6wHPmSx9PGcSAIBr57p6ziQAAADKP8IkAAAALCNMAgAAwDLCJAAAACwjTAIAAMAywiQAAAAsI0wCAADAMsIkAAAALCNMAgAAwDLCJAAAACwjTAIAAMAywiQAAAAsI0wCAADAMsIkAAAALCNMAgAAwDLCJAAAACwjTAIAAMAywiQAAAAsI0wCAADAMsIkAAAALCNMAgAAwDLCJAAAACwjTAIAAMAywiQAAAAsI0wCAADAMsIkAAAALCNMAgAAwDLCJAAAACwjTAIAAMAywiQAAAAscy3rDgDXSsjfPirrLlQYyZOeKOsuAAAqCEYmAQAAYBkjkwCuKkaELx8jwgAqIsIkAFyHCPGXjxAP/Dlc5gYAAIBlhEkAAABYxmVuAABKCV8vuHx8veD6wcgkAAAALCNMAgAAwDLC5HlmzpypBg0aqEqVKgoJCdH69evLuksAAADlFmHyHJ988oliY2P1wgsv6Pvvv9c999yj++67TwcPHizrrgEAAJRL3IBzjqlTp2rgwIEaNGiQJGn69On6+uuvNWvWLI0bN66MewcAAErCjU+X72rc+ESY/P/y8vKUnJys559/3ml5eHi4kpKSStwmNzdXubm55rzD4ZAkZWdnX7StgtycP9nbG8elzuWV4LxfPs572eC8lw3Oe9ngvJeNS533ovWGYVz+Tg0YhmEYv/32myHJ+O6775yW//Of/zQaNWpU4jYvv/yyIYmJiYmJiYmJ6bqa0tLSLjtDMTJ5HpvN5jRvGEaxZUXGjBmjZ5991pwvLCzU8ePH5evre8Ftyqvs7GzVqVNHaWlp8vb2Luvu3DA472WD837tcc7LBue9bFTk824Yhk6ePKmgoKDL3oYw+f/5+fnJxcVFGRkZTsszMzMVEBBQ4jbu7u5yd3d3Wla9evWr1cVrwtvbu8K98K8HnPeywXm/9jjnZYPzXjYq6nm32+1XVM/d3P+fm5ubQkJCtHLlSqflK1euVLt27cqoVwAAAOUbI5PnePbZZxUdHa3WrVsrNDRU77zzjg4ePKinnnqqrLsGAABQLhEmz9GnTx8dO3ZMr776qtLT0xUcHKzly5erXr16Zd21q87d3V0vv/xyscv2uLo472WD837tcc7LBue9bNxo591mGFdy7zcAAADwf/jOJAAAACwjTAIAAMAywiQAAAAsI0ziosLCwhQbG2vO169fX9OnTy+z/lR0+/fvl81mU0pKyhVvO3bsWLVs2fKiNf3799cDDzxgqW/Xq+vhNVve/l/Xrl0rm82mEydOlHVXbmg2m01Lly69btu7lBv1dVgeP0cIk+VYRkaGRo4cqVtvvVVVqlRRQECA7r77br399ts6c+ZMmfRp69atGjJkSJm0XdYu9Aa7Vj/Q4uLi9M0331zVNqzq37+/bDZbsalbt25mTUZGhqKjoxUYGChPT0+1atVKn332mdN+6tevX2wfzz///EXbDgsLK7Hts2fPXpVjLUlJ7d99993XrH1cX859P1WuXFkBAQHq2rWrPvjgAxUWFpp16enpuu+++8qwp1fX+efh5ptvVlxcnE6fPn3N+3L+wIoVZf0ZIl29zxEeDVRO/frrr2rfvr2qV6+u+Ph4NWvWTGfPntVPP/2kDz74QEFBQerVq9c171fNmjWveZs3OsMwVFBQoGrVqqlatWpl3Z0L6tatm+bMmeO07NzHYkRHR8vhcOjLL7+Un5+fFi5cqD59+mjbtm264447zLpXX31VgwcPNucv55gHDx6sV1991WmZq+u1/fE2Z84cp/Ds5uZ2TdvH9aXo/VRQUKAjR44oISFBI0eO1GeffaYvv/xSrq6uCgwMLOtuXnVF5yE/P1/r16/XoEGDdPr0ac2aNausu1ahXO3PEUYmy6mYmBi5urpq27Zt6t27t5o0aaJmzZrp4Ycf1rJly9SzZ09J0tSpU9WsWTN5enqqTp06iomJ0alTp8z9HDhwQD179pSPj488PT11++23a/ny5eb6devW6a677pK7u7tq1aql559//qIjOudfMrTZbHrvvff04IMPqmrVqmrYsKG+/PJLp2127dql7t27q1q1agoICFB0dLT+97//ldKZKj9Onz4tb2/vYqNt//nPf+Tp6amTJ0+ay/bs2aN27dqpSpUquv3227V27VpzXdFvqV9//bVat24td3d3rV+/vtjliYKCAj377LOqXr26fH19NXr0aJXlk77c3d0VGBjoNPn4+JjrN27cqOHDh+uuu+7SzTffrBdffFHVq1fX9u3bnfbj5eXltI/L+cFXtWrVYm1fiMPh0JAhQ+Tv7y9vb2916tRJP/zwgyTp6NGjCgwMVHx8vFm/efNmubm5KTEx8aJ9qF69ulP7NWrUkFTypcHq1atr7ty55vxvv/2mPn36yMfHR76+vrr//vu1f//+Sx63VSVd+m/ZsqXGjh1r9vlS7+tz5eTkqEePHmrbtq2OHz9uXob7/PPP1bFjR1WtWlUtWrTQxo0bnbZbvHixbr/9drm7u6t+/fqaMmWKue7NN99Us2bNzPmlS5fKZrPprbfeMpdFRERozJgxkv7v8t28efNUv3592e12PfbYY07vu4qk6P100003qVWrVvr73/+uL774QitWrDBfO+e/ti71Olq7dq3uuusueXp6qnr16mrfvr0OHDhgrv/Pf/6jkJAQValSRTfffLNeeeWVazrCX5Ki81CnTh1FRUWpb9++F7zUXtIl3OnTp6t+/frm/NmzZzVixAjz5+Zzzz2nfv36XfFl3fr16ys+Pl4DBgyQl5eX6tatq3feeefKDq4EFfVzhDBZDh07dkyJiYkaNmyYPD09S6yx2WySpEqVKumNN95QamqqPvzwQ61evVqjR48264YNG6bc3Fx9++232rFjhyZMmGB+OP/222/q3r277rzzTv3www+aNWuW3n//fb3++utX1N9XXnlFvXv31o8//qju3burb9++On78uKQ/LsN06NBBLVu21LZt25SQkKAjR46od+/eVk5Nuebp6anHHnus2OjcnDlz9Mgjj8jLy8tc9re//U2jRo3S999/r3bt2qlXr146duyY03ajR4/WuHHjtHv3bjVv3rxYe1OmTNEHH3yg999/Xxs2bNDx48e1ZMmSq3NwpeDuu+/WJ598ouPHj6uwsFCLFi1Sbm6uwsLCnOomTJggX19ftWzZUv/85z+Vl5dXan0wDEM9evRQRkaGli9fruTkZLVq1UqdO3fW8ePHVbNmTX3wwQcaO3astm3bplOnTunxxx9XTEyMwsPDS60f5zpz5ow6duyoatWq6dtvv9WGDRtUrVo1devWrVSP/Upd7H19LofDofDwcOXl5embb74xQ7QkvfDCC4qLi1NKSooaNWqkv/zlL2Y4SU5OVu/evfXYY49px44dGjt2rP7xj3+YQSksLEw7d+40f/Fct26d/Pz8tG7dOkl/hIKkpCR16NDBbO+XX37R0qVL9dVXX+mrr77SunXrNH78+Kt1iq65Tp06qUWLFvr888+LrbvU6+js2bN64IEH1KFDB/3444/auHGjhgwZYn6WfP3113r88cc1YsQI7dq1S7Nnz9bcuXP1z3/+81of5kV5eHgoPz/f8vYTJkzQggULNGfOHH333XfKzs62/D3QKVOmqHXr1vr+++8VExOjv/71r9qzZ4/lvkkV+HPEQLmzadMmQ5Lx+eefOy339fU1PD09DU9PT2P06NElbvvpp58avr6+5nyzZs2MsWPHllj797//3WjcuLFRWFhoLnvrrbeMatWqGQUFBYZhGEaHDh2MkSNHmuvr1atnTJs2zZyXZLz44ovm/KlTpwybzWasWLHCMAzD+Mc//mGEh4c7tZuWlmZIMvbu3XuRs1D+9OvXz3BxcTH/D4qmKlWqGJKMrKwsY/PmzYaLi4vx22+/GYZhGEePHjUqV65srF271jAMw9i3b58hyRg/fry53/z8fKN27drGhAkTDMMwjDVr1hiSjKVLlzq1//LLLxstWrQw52vVqlXifu6///6rdAYu7ELn5tVXXzVrTpw4YURERBiSDFdXV8Pb29tITEx02s/UqVONtWvXGj/88IPx7rvvGn5+fsbAgQMv2naHDh2MypUrO7X77LPPmuvPfc1+8803hre3t/H777877eOWW24xZs+ebc7HxMQYjRo1Mvr27WsEBwcbOTk5F+2DJKNKlSpOfViyZIm5rujfRex2uzFnzhzDMAzj/fffL/Y+zM3NNTw8PIyvv/7aMIw/zm9p/r+e/z42DMNo0aKF8fLLL5t9vtj7uug1umfPHqNFixbGQw89ZOTm5pr1Ra/z9957z1y2c+dOQ5Kxe/duwzAMIyoqyujatatTH/72t78ZTZs2NQzDMAoLCw0/Pz/js88+MwzDMFq2bGmMGzfO8Pf3NwzDMJKSkgxXV1fj5MmThmH88f6oWrWqkZ2d7bS/Nm3aWD5PZeVi/999+vQxmjRpYhiG82vrUq+jY8eOGZLMn0Xnu+eee4z4+HinZfPmzTNq1aplzpf0Wr6azj8PmzdvNnx9fY3evXsbhvF/r8OsrCzDMIr/jDQMw5g2bZpRr149cz4gIMCYNGmSOX/27Fmjbt26l3x/lfRZ+Pjjj5vzhYWFhr+/vzFr1qyLHs+lPkOKjrOifY7wnclyrOg3xiJbtmxRYWGh+vbtq9zcXEnSmjVrFB8fr127dik7O1tnz57V77//rtOnT8vT01MjRozQX//6VyUmJqpLly56+OGHzd9Odu/erdDQUKd22rdvr1OnTunQoUOqW7fuZfXz3N92PD095eXlpczMTEl/jD6sWbOmxEuVv/zyixo1anRlJ6WMdezYsdh3dTZv3qzHH39cknTXXXfp9ttv10cffaTnn39e8+bNU926dXXvvfc6bRMaGmr+29XVVa1bt9bu3budalq3bn3BfjgcDqWnp5e4H6OMLnWXdG7OHaV68cUXlZWVpVWrVsnPz09Lly7Vo48+qvXr15uXM5955hmzvnnz5vLx8dEjjzxijlZeSN++ffXCCy+Y89WrVy+xLjk5WadOnSq2r5ycHP3yyy/m/OTJkxUcHKxPP/1U27ZtU5UqVS55/NOmTVOXLl3M+Vq1al1ym6I+/fe//3UacZCk33//3alP19rF3tdFunTpojvvvFOffvqpXFxcLrqPovORmZmp2267Tbt379b999/vVN++fXtNnz5dBQUFcnFx0b333qu1a9eqc+fO2rlzp5566ilNnjxZu3fv1tq1a9WqVSunny3169d3Oo+1atUq1ueKzjCMYp8N0qVfR+Hh4erfv78iIiLUtWtXdenSRb179zb/X5KTk7V161ankciCggL9/vvvOnPmjKpWrXp1D+wCvvrqK1WrVk1nz55Vfn6+7r//fr355puW9uVwOHTkyBHddddd5jIXFxeFhISYNzYtWLBAQ4cONdevWLFC99xzT4n7O/f1bbPZFBgYeMnX26U+Q6SK+TlCmCyHbr31VtlstmLD5TfffLOkP4b5pT++D9m9e3c99dRTeu2111SjRg1t2LBBAwcONC8DDBo0SBEREVq2bJkSExM1btw4TZkyRcOHDy/xh1LRC6ikH1YXUrlyZad5m81mvjELCwvVs2dPTZgwodh2l/thW554enrq1ltvdVp26NAhp/lBgwZpxowZev755zVnzhw9+eSTl3U+z6+50FccyquSzk2RX375RTNmzFBqaqpuv/12SVKLFi20fv16vfXWW3r77bdL3K5t27aSpP/+978XDZN2u/2CbZ+rsLBQtWrVcvpuUZFzA+ivv/6qw4cPq7CwUAcOHCjx8tD5AgMDS+yDzWYr9oP53Mt0hYWFCgkJ0YIFC4pte7VueKtUqdJF+yRd/H1dpEePHlq8eLF27drl9P3GkvZR9Pou2sfFfv4UCQsL0zvvvKP169erRYsWql69uu69916tW7dOa9euLfYVicvpc0W3e/duNWjQoNjyy3kdzZkzRyNGjFBCQoI++eQTvfjii1q5cqXatm2rwsJCvfLKK3rooYeKbX85v0xdLUXhq3LlygoKCir2f3yuy3ldS8V/1p67Ta9evdSmTRtz/qabbrpge1Zeb5fzGSJVvM8RvjNZDvn6+qpr166aMWPGRR+BsG3bNp09e1ZTpkxR27Zt1ahRIx0+fLhYXZ06dfTUU0/p888/16hRo/Tuu+9Kkpo2baqkpCSnN1JSUpK8vLwu+ga6Eq1atdLOnTtVv3593XrrrU5TRQtLl+vxxx/XwYMH9cYbb2jnzp3q169fsZpNmzaZ/z579qySk5N12223XXYbdrtdtWrVKnE/5VHRo6wqVXL+kePi4nLRH77ff/+9pNL7xaNVq1bKyMiQq6trsdejn5+fJCkvL099+/ZVnz599Prrr2vgwIE6cuSI5TZr1qyp9PR0c/7nn392erRXq1at9PPPP8vf379Yn+x2u/WDvYI+ZWdna9++fVe8n/Hjx6tfv37q3Lmzdu3adUXbNm3aVBs2bHBalpSUpEaNGpmjnEXfm/zss8/M4NihQwetWrWq2PclbwSrV6/Wjh079PDDDxdbd7mvozvuuENjxoxRUlKSgoODtXDhQnP7vXv3Ftv21ltvLfa+vZaKwle9evUuGiSlP17XGRkZTp9p5z6L0W63KyAgQFu2bDGXFRQUmD9npD9uADz32IsGb661ivY5Qpgsp2bOnKmzZ8+qdevW+uSTT7R7927t3btX8+fP1549e+Ti4qJbbrlFZ8+e1Ztvvqlff/1V8+bNKzbCExsbq6+//lr79u3T9u3btXr1ajVp0kTSH3eMp6Wlafjw4dqzZ4+++OILvfzyy3r22WdL7YfHsGHDdPz4cf3lL3/Rli1b9OuvvyoxMVEDBgxQQUFBqbRR3vj4+Oihhx7S3/72N4WHh6t27drFat566y0tWbJEe/bs0bBhw5SVlaUBAwZcUTsjR47U+PHjzf3ExMSU6cN7c3NzlZGR4TQV3Txx22236dZbb9XQoUO1ZcsW/fLLL5oyZYpWrlxp3kW5ceNGTZs2TSkpKdq3b58+/fRTDR06VL169brsr1xcSpcuXRQaGqoHHnhAX3/9tfbv36+kpCS9+OKL2rZtm6Q/bhpxOBx64403NHr0aDVp0kQDBw603GanTp00Y8YMbd++Xdu2bdNTTz3l9KHYt29f+fn56f7779f69eu1b98+rVu3TiNHjixxxKI0dOrUSfPmzdP69euVmpqqfv36lXiZ+nJMnjxZffv2VadOna7o5oNRo0bpm2++0WuvvaaffvpJH374oWbMmKG4uDizJjg4WL6+vlqwYIEZJsPCwrR06VLl5ORc18/yLHo//fbbb9q+fbvi4+N1//33KzIyUk888USx+ku9jvbt26cxY8Zo48aNOnDggBITE/XTTz+ZnwcvvfSSPvroI40dO1Y7d+7U7t27zdHLiiIsLExHjx7VxIkT9csvv+itt97SihUrnGqGDx+ucePG6YsvvtDevXs1cuRIZWVlXdHVuGuhon2OECbLqVtuuUXff/+9unTpojFjxqhFixZq3bq13nzzTcXFxem1115Ty5YtNXXqVE2YMEHBwcFasGCBxo0b57SfgoICDRs2TE2aNFG3bt3UuHFjzZw5U9Ifw/fLly/Xli1b1KJFCz311FMaOHBgqf7wCAoK0nfffaeCggJFREQoODhYI0eOlN1uL9Pfdq+2gQMHKi8v74Jv7PHjx2vChAnmpd4vvvjCHBm7XKNGjdITTzyh/v37KzQ0VF5eXnrwwQdLo/uWJCQkqFatWk5T0Yd95cqVtXz5ctWsWVM9e/ZU8+bN9dFHH+nDDz9U9+7dJf3xCJBPPvlEYWFhatq0qV566SUNHjxYH3/8can10Wazafny5br33ns1YMAANWrUSI899pj279+vgIAArV27VtOnT9e8efPk7e2tSpUqad68edqwYYPl59pNmTJFderU0b333quoqCjFxcU5ff+satWq+vbbb1W3bl099NBDatKkiQYMGKCcnBx5e3uX1qE7GTNmjO69915FRkaqe/fueuCBB3TLLbdY3t+0adPUu3dvderUST/99NNlbdOqVSt9+umnWrRokYKDg/XSSy/p1VdfVf/+/c0am81mjj4WfW+tefPmstvtuuOOO67a+SkPit5P9evXV7du3bRmzRq98cYb+uKLL0oM/pd6HVWtWlV79uzRww8/rEaNGmnIkCF6+umnze8HRkRE6KuvvtLKlSt15513qm3btpo6darq1at3rQ/dsiZNmmjmzJl666231KJFC23ZssXplxNJeu655/SXv/xFTzzxhEJDQ1WtWjVFRESU6aX8C6lInyM2o6y+rQ9cxxYsWKCRI0fq8OHDPLwaAMqpwsJCNWnSRL1799Zrr71W1t1xUpE+R7gBByhFZ86c0b59+zRu3DgNHTq03P8AAIAbSdEl/g4dOig3N1czZszQvn37FBUVVdZdM1XEz5Hr9zojUAYmTpyoli1bKiAgwPzLHACA8qFSpUqaO3eu7rzzTrVv3147duzQqlWrzO+OlgcV8XOEy9wAAACwjJFJAAAAWEaYBAAAgGWESQAAAFhGmAQAAIBlhEkAAABYRpgEAAsMw9CQIUNUo0YN2Ww2p78BbNXYsWPVsmXLP70fALiWeGg5AFiQkJCguXPnau3atbr55puv+M+Y/Vn9+/fXiRMntHTp0mvaLgCcjzAJABb88ssvqlWrltq1a1fWXQGAMsVlbgC4Qv3799fw4cN18OBB2Ww21a9fX/Xr19f06dOd6lq2bKmxY8ea8w6HQ0OGDJG/v7+8vb3VqVMn/fDDD1fc/tixY/Xhhx/qiy++kM1mk81m09q1a9WpUyc9/fTTTrXHjh2Tu7u7Vq9eLUmqX7++XnvtNUVFRalatWoKCgrSm2++6bRNafUTwI2BMAkAV+hf//qXXn31VdWuXVvp6enaunXrJbcxDEM9evRQRkaGli9fruTkZLVq1UqdO3fW8ePHr6j9uLg49e7dW926dVN6errS09PVrl07DRo0SAsXLlRubq5Zu2DBAgUFBaljx47mskmTJql58+bavn27xowZo2eeeUYrV64s9X4CuDEQJgHgCtntdnl5ecnFxUWBgYGqWbPmJbdZs2aNduzYoX//+99q3bq1GjZsqMmTJ6t69er67LPPrqj9atWqycPDQ+7u7goMDFRgYKDc3Nz08MMPy2az6YsvvjBr58yZo/79+8tms5nL2rdvr+eff16NGjXS8OHD9cgjj2jatGml3k8ANwbCJABcA8nJyTp16pR8fX1VrVo1c9q3b59++eWXUmnD3d1djz/+uD744ANJUkpKin744Qf179/fqS40NLTY/O7du69ZPwFcX7gBBwBKQaVKlWQYhtOy/Px889+FhYWqVauW1q5dW2zb6tWrl1o/Bg0apJYtW+rQoUP64IMP1LlzZ9WrV++S2xWNXF6rfgK4fhAmAaAU1KxZU+np6eZ8dna29u3bZ863atVKGRkZcnV1Vf369f90e25ubiooKCi2vFmzZmrdurXeffddLVy4sNjNNZK0adOmYvO33XbbVekngOsfl7kBoBR06tRJ8+bN0/r165Wamqp+/frJxcXFXN+lSxeFhobqgQce0Ndff639+/crKSlJL774orZt23bF7dWvX18//vij9u7dq//9739Oo6CDBg3S+PHjVVBQoAcffLDYtt99950mTpyon376SW+99Zb+/e9/a+TIkVelnwCuf4RJACgFY8aM0b333qvIyEh1795dDzzwgG655RZzvc1m0/Lly3XvvfdqwIABatSokR577DHt379fAQEBV9ze4MGD1bhxY7Vu3Vo1a9bUd999Z677y1/+IldXV0VFRalKlSrFth01apSSk5N1xx136LXXXtOUKVMUERFxVfoJ4PpnM87/kg8AoEJLS0tT/fr1tXXrVrVq1cppXf369RUbG6vY2Niy6RyA6w7fmQSA60R+fr7S09P1/PPPq23btsWCJABcDVzmBoBy6NzH8pw/rV+/vsRtvvvuO9WrV0/Jycl6++23r3GPAdyouMwNAOXQf//73wuuu+mmm+Th4XENewMAF0aYBAAAgGVc5gYAAIBlhEkAAABYRpgEAACAZYRJAAAAWEaYBAAAgGWESQAAAFhGmAQAAIBl/w9mWjIlHeTj1gAAAABJRU5ErkJggg==",
      "text/plain": [
       "<Figure size 1600x1000 with 1 Axes>"
      ]
     },
     "metadata": {},
     "output_type": "display_data"
    }
   ],
   "source": [
    "plt.figure(figsize=(16, 10))\n",
    "plt.subplot(2, 2, 2)\n",
    "sns.countplot(data=data, x='fuel_type',order=data['fuel_type'].value_counts().index)\n",
    "plt.title('Distribution of Fuel Types');"
   ]
  },
  {
   "cell_type": "markdown",
   "metadata": {
    "scrolled": true
   },
   "source": [
    "# Data Preprocessing and Transformation"
   ]
  },
  {
   "cell_type": "code",
   "execution_count": 56,
   "metadata": {
    "id": "-KZ_1x7mP9dL",
    "scrolled": true
   },
   "outputs": [],
   "source": [
    "data.drop(['id','model'] , axis= 1 ,inplace = True)"
   ]
  },
  {
   "cell_type": "markdown",
   "metadata": {},
   "source": [
    "### Encoding the categorical columns"
   ]
  },
  {
   "cell_type": "code",
   "execution_count": 57,
   "metadata": {
    "id": "QdwoL-bvQGrT"
   },
   "outputs": [],
   "source": [
    "from sklearn.preprocessing import LabelEncoder\n",
    "encoder = LabelEncoder()\n",
    "\n",
    "columns = ['accident','clean_title' ,'fuel_type', 'ext_col', 'int_col', 'engine',\n",
    "       'transmission','brand' ]\n",
    "\n",
    "for col in columns:\n",
    "    data[col] = encoder.fit_transform(data[col])"
   ]
  },
  {
   "cell_type": "markdown",
   "metadata": {},
   "source": [
    "### Scaling the numerical Columns"
   ]
  },
  {
   "cell_type": "code",
   "execution_count": 58,
   "metadata": {},
   "outputs": [],
   "source": [
    "from sklearn.preprocessing import MinMaxScaler\n",
    "scale = MinMaxScaler()\n",
    "columns_to_scale = [ 'milage']\n",
    "data[columns_to_scale] = scale.fit_transform(data[columns_to_scale])"
   ]
  },
  {
   "cell_type": "code",
   "execution_count": 59,
   "metadata": {
    "colab": {
     "base_uri": "https://localhost:8080/",
     "height": 221
    },
    "id": "7fXj1fGhQTJE",
    "outputId": "551622b9-1c56-4d29-c787-7bc8dd0638d4"
   },
   "outputs": [
    {
     "data": {
      "text/html": [
       "<div>\n",
       "<style scoped>\n",
       "    .dataframe tbody tr th:only-of-type {\n",
       "        vertical-align: middle;\n",
       "    }\n",
       "\n",
       "    .dataframe tbody tr th {\n",
       "        vertical-align: top;\n",
       "    }\n",
       "\n",
       "    .dataframe thead th {\n",
       "        text-align: right;\n",
       "    }\n",
       "</style>\n",
       "<table border=\"1\" class=\"dataframe\">\n",
       "  <thead>\n",
       "    <tr style=\"text-align: right;\">\n",
       "      <th></th>\n",
       "      <th>brand</th>\n",
       "      <th>model_year</th>\n",
       "      <th>milage</th>\n",
       "      <th>fuel_type</th>\n",
       "      <th>engine</th>\n",
       "      <th>transmission</th>\n",
       "      <th>ext_col</th>\n",
       "      <th>int_col</th>\n",
       "      <th>accident</th>\n",
       "      <th>clean_title</th>\n",
       "      <th>target</th>\n",
       "    </tr>\n",
       "  </thead>\n",
       "  <tbody>\n",
       "    <tr>\n",
       "      <th>0</th>\n",
       "      <td>8</td>\n",
       "      <td>2014</td>\n",
       "      <td>0.168224</td>\n",
       "      <td>2</td>\n",
       "      <td>884</td>\n",
       "      <td>16</td>\n",
       "      <td>37</td>\n",
       "      <td>14</td>\n",
       "      <td>1</td>\n",
       "      <td>1</td>\n",
       "      <td>27500</td>\n",
       "    </tr>\n",
       "    <tr>\n",
       "      <th>3</th>\n",
       "      <td>35</td>\n",
       "      <td>2016</td>\n",
       "      <td>0.369159</td>\n",
       "      <td>2</td>\n",
       "      <td>559</td>\n",
       "      <td>38</td>\n",
       "      <td>259</td>\n",
       "      <td>14</td>\n",
       "      <td>0</td>\n",
       "      <td>1</td>\n",
       "      <td>21400</td>\n",
       "    </tr>\n",
       "    <tr>\n",
       "      <th>4</th>\n",
       "      <td>35</td>\n",
       "      <td>2017</td>\n",
       "      <td>0.074766</td>\n",
       "      <td>2</td>\n",
       "      <td>1034</td>\n",
       "      <td>49</td>\n",
       "      <td>125</td>\n",
       "      <td>14</td>\n",
       "      <td>1</td>\n",
       "      <td>1</td>\n",
       "      <td>48000</td>\n",
       "    </tr>\n",
       "    <tr>\n",
       "      <th>14</th>\n",
       "      <td>4</td>\n",
       "      <td>2015</td>\n",
       "      <td>0.453271</td>\n",
       "      <td>2</td>\n",
       "      <td>841</td>\n",
       "      <td>23</td>\n",
       "      <td>125</td>\n",
       "      <td>14</td>\n",
       "      <td>1</td>\n",
       "      <td>1</td>\n",
       "      <td>40500</td>\n",
       "    </tr>\n",
       "    <tr>\n",
       "      <th>16</th>\n",
       "      <td>51</td>\n",
       "      <td>2020</td>\n",
       "      <td>0.271028</td>\n",
       "      <td>5</td>\n",
       "      <td>951</td>\n",
       "      <td>0</td>\n",
       "      <td>259</td>\n",
       "      <td>14</td>\n",
       "      <td>1</td>\n",
       "      <td>1</td>\n",
       "      <td>32000</td>\n",
       "    </tr>\n",
       "  </tbody>\n",
       "</table>\n",
       "</div>"
      ],
      "text/plain": [
       "    brand  model_year    milage  fuel_type  engine  transmission  ext_col  \\\n",
       "0       8        2014  0.168224          2     884            16       37   \n",
       "3      35        2016  0.369159          2     559            38      259   \n",
       "4      35        2017  0.074766          2    1034            49      125   \n",
       "14      4        2015  0.453271          2     841            23      125   \n",
       "16     51        2020  0.271028          5     951             0      259   \n",
       "\n",
       "    int_col  accident  clean_title  target  \n",
       "0        14         1            1   27500  \n",
       "3        14         0            1   21400  \n",
       "4        14         1            1   48000  \n",
       "14       14         1            1   40500  \n",
       "16       14         1            1   32000  "
      ]
     },
     "execution_count": 59,
     "metadata": {},
     "output_type": "execute_result"
    }
   ],
   "source": [
    "data.head()"
   ]
  },
  {
   "cell_type": "markdown",
   "metadata": {},
   "source": [
    "# Splitting the data for training and testing"
   ]
  },
  {
   "cell_type": "code",
   "execution_count": 60,
   "metadata": {
    "id": "rr_pWgBLQUsC"
   },
   "outputs": [],
   "source": [
    "X = data.drop('target' , axis = 1)\n",
    "Y = data['target']"
   ]
  },
  {
   "cell_type": "code",
   "execution_count": 61,
   "metadata": {
    "id": "IqXI4IEfQXeP"
   },
   "outputs": [],
   "source": [
    "from sklearn.model_selection import train_test_split\n",
    "X_train, X_test, y_train, y_test = train_test_split(X, Y, test_size=0.1, random_state=42)"
   ]
  },
  {
   "cell_type": "markdown",
   "metadata": {},
   "source": [
    "# Preparing the test dataset"
   ]
  },
  {
   "cell_type": "code",
   "execution_count": 84,
   "metadata": {},
   "outputs": [],
   "source": [
    "test = pd.read_csv(\"data/test.csv\")\n",
    "test_data = test.copy()\n",
    "test_data['fuel_type'].replace('–', \"unknown\", inplace=True)\n",
    "test_data['fuel_type'].replace('not supported', \"unknown\", inplace=True)\n",
    "test_data['fuel_type'].fillna('unknown' , inplace = True)\n",
    "test_data['accident'].dropna(inplace = True)\n",
    "test_data.dropna(subset=['accident'], inplace=True)\n",
    "test_data.isnull().sum()\n",
    "test_data.drop(['id','model'] , axis= 1 ,inplace = True)\n",
    "from sklearn.preprocessing import LabelEncoder\n",
    "from sklearn.preprocessing import MinMaxScaler\n",
    "\n",
    "encoder = LabelEncoder()\n",
    "scale = MinMaxScaler()\n",
    "\n",
    "columns = ['accident','clean_title' ,'fuel_type', 'ext_col', 'int_col', 'engine',\n",
    "       'transmission','brand' ]\n",
    "for col in columns:\n",
    "    test_data[col] = encoder.fit_transform(test_data[col])\n",
    "\n",
    "columns_to_scale = [ 'milage']\n",
    "test_data[columns_to_scale] = scale.fit_transform(test_data[columns_to_scale])"
   ]
  },
  {
   "cell_type": "markdown",
   "metadata": {},
   "source": [
    "# XGBoost Regressor"
   ]
  },
  {
   "cell_type": "code",
   "execution_count": 69,
   "metadata": {},
   "outputs": [
    {
     "name": "stdout",
     "output_type": "stream",
     "text": [
      "Train MAE: 6724.932550302019, Train MSE: 69312885.77161197\n",
      "Validation MAE: 6762.673059440776, Validation MSE: 70540948.23484918\n",
      "\n",
      "Cross-validation scores: [70628574.84641398 69222675.77370042 70119643.78907432 69887765.5455666\n",
      " 70479096.99024688]\n",
      "Average accuracy: 70067551.38900045\n"
     ]
    }
   ],
   "source": [
    "from xgboost import XGBRegressor\n",
    "from sklearn.metrics import mean_absolute_error, mean_squared_error\n",
    "from sklearn.model_selection import KFold\n",
    "from sklearn.model_selection import cross_val_score\n",
    "\n",
    "model1 = XGBRegressor(n_estimators=50, learning_rate=0.04, max_depth=5,reg_alpha=1, reg_lambda=1)\n",
    "model1.fit(X_train, y_train);\n",
    "\n",
    "y_train_pred = model1.predict(X_train)\n",
    "y_test_pred = model1.predict(X_test)\n",
    "\n",
    "\n",
    "train_mae = mean_absolute_error(y_train, y_train_pred)\n",
    "train_mse = mean_squared_error(y_train, y_train_pred)\n",
    "val_mae = mean_absolute_error(y_test, y_test_pred)\n",
    "val_mse = mean_squared_error(y_test, y_test_pred)\n",
    "\n",
    "print(f\"Train MAE: {train_mae}, Train MSE: {train_mse}\")\n",
    "print(f\"Validation MAE: {val_mae}, Validation MSE: {val_mse}\\n\")\n",
    "\n",
    "\n",
    "kf = KFold(n_splits=5, shuffle=True, random_state=42)\n",
    "mse = cross_val_score(model1, X, Y, cv=kf,scoring='neg_mean_squared_error')\n",
    "mse = -mse\n",
    "\n",
    "print(\"Cross-validation scores:\", mse)\n",
    "print(\"Average accuracy:\", mse.mean())"
   ]
  },
  {
   "cell_type": "markdown",
   "metadata": {},
   "source": [
    "# Saving predictions into CSV file for Submission"
   ]
  },
  {
   "cell_type": "code",
   "execution_count": 85,
   "metadata": {},
   "outputs": [],
   "source": [
    "id = test['id']"
   ]
  },
  {
   "cell_type": "code",
   "execution_count": 86,
   "metadata": {
    "id": "KhqVrDl2p84X"
   },
   "outputs": [
    {
     "ename": "NameError",
     "evalue": "name 'submit' is not defined",
     "output_type": "error",
     "traceback": [
      "\u001b[1;31m---------------------------------------------------------------------------\u001b[0m",
      "\u001b[1;31mNameError\u001b[0m                                 Traceback (most recent call last)",
      "Cell \u001b[1;32mIn[86], line 3\u001b[0m\n\u001b[0;32m      1\u001b[0m y_pred  \u001b[38;5;241m=\u001b[39m model1\u001b[38;5;241m.\u001b[39mpredict(test_data)\u001b[38;5;241m.\u001b[39mflatten()\n\u001b[0;32m      2\u001b[0m y_pred_series \u001b[38;5;241m=\u001b[39m pd\u001b[38;5;241m.\u001b[39mSeries(y_pred)\n\u001b[1;32m----> 3\u001b[0m result \u001b[38;5;241m=\u001b[39m pd\u001b[38;5;241m.\u001b[39mconcat([\u001b[43msubmit\u001b[49m , y_pred_series] , axis \u001b[38;5;241m=\u001b[39m \u001b[38;5;241m1\u001b[39m)\n\u001b[0;32m      4\u001b[0m result\u001b[38;5;241m.\u001b[39mcolumns \u001b[38;5;241m=\u001b[39m [\u001b[38;5;124m'\u001b[39m\u001b[38;5;124mid\u001b[39m\u001b[38;5;124m'\u001b[39m, \u001b[38;5;124m'\u001b[39m\u001b[38;5;124mtarget\u001b[39m\u001b[38;5;124m'\u001b[39m]\n\u001b[0;32m      5\u001b[0m result\u001b[38;5;241m.\u001b[39mto_csv(\u001b[38;5;124m'\u001b[39m\u001b[38;5;124msubmissionXG.csv\u001b[39m\u001b[38;5;124m'\u001b[39m,header\u001b[38;5;241m=\u001b[39m [\u001b[38;5;124m'\u001b[39m\u001b[38;5;124mid\u001b[39m\u001b[38;5;124m'\u001b[39m, \u001b[38;5;124m'\u001b[39m\u001b[38;5;124mtarget\u001b[39m\u001b[38;5;124m'\u001b[39m], index\u001b[38;5;241m=\u001b[39m\u001b[38;5;28;01mFalse\u001b[39;00m)\n",
      "\u001b[1;31mNameError\u001b[0m: name 'submit' is not defined"
     ]
    }
   ],
   "source": [
    "y_pred  = model1.predict(test_data).flatten()\n",
    "y_pred_series = pd.Series(y_pred)\n",
    "result = pd.concat([submit , y_pred_series] , axis = 1)\n",
    "result.columns = ['id', 'target']\n",
    "result.to_csv('submissionXG.csv',header= ['id', 'target'], index=False)"
   ]
  },
  {
   "cell_type": "code",
   "execution_count": null,
   "metadata": {},
   "outputs": [],
   "source": []
  }
 ],
 "metadata": {
  "accelerator": "GPU",
  "colab": {
   "gpuType": "T4",
   "provenance": []
  },
  "kernelspec": {
   "display_name": "Python 3 (ipykernel)",
   "language": "python",
   "name": "python3"
  },
  "language_info": {
   "codemirror_mode": {
    "name": "ipython",
    "version": 3
   },
   "file_extension": ".py",
   "mimetype": "text/x-python",
   "name": "python",
   "nbconvert_exporter": "python",
   "pygments_lexer": "ipython3",
   "version": "3.8.19"
  }
 },
 "nbformat": 4,
 "nbformat_minor": 4
}
