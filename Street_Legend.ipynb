{
 "cells": [
  {
   "cell_type": "markdown",
   "metadata": {},
   "source": [
    "# Importing The Dataset"
   ]
  },
  {
   "cell_type": "code",
   "execution_count": 148,
   "metadata": {
    "id": "5k38VAXQPKlf"
   },
   "outputs": [],
   "source": [
    "import pandas as pd\n",
    "import numpy as np\n",
    "original_data = pd.read_csv(\"data/train.csv\")\n",
    "original_data.shape\n",
    "pd.set_option('display.max_columns', None)"
   ]
  },
  {
   "cell_type": "code",
   "execution_count": 149,
   "metadata": {
    "id": "Sh-ejb5TPlP4",
    "scrolled": true
   },
   "outputs": [
    {
     "data": {
      "text/plain": [
       "(155711, 13)"
      ]
     },
     "execution_count": 149,
     "metadata": {},
     "output_type": "execute_result"
    }
   ],
   "source": [
    "data = original_data.copy()\n",
    "original_data.shape"
   ]
  },
  {
   "cell_type": "code",
   "execution_count": 150,
   "metadata": {},
   "outputs": [
    {
     "data": {
      "text/plain": [
       "id                  0\n",
       "brand               0\n",
       "model               0\n",
       "model_year          0\n",
       "milage              0\n",
       "fuel_type        4213\n",
       "engine              0\n",
       "transmission        0\n",
       "ext_col             0\n",
       "int_col             0\n",
       "accident         2033\n",
       "clean_title     17750\n",
       "target              0\n",
       "dtype: int64"
      ]
     },
     "execution_count": 150,
     "metadata": {},
     "output_type": "execute_result"
    }
   ],
   "source": [
    "data.isnull().sum()"
   ]
  },
  {
   "cell_type": "markdown",
   "metadata": {},
   "source": [
    "# Data Cleaning"
   ]
  },
  {
   "cell_type": "markdown",
   "metadata": {},
   "source": [
    "### Fuel_type columns "
   ]
  },
  {
   "cell_type": "code",
   "execution_count": 151,
   "metadata": {},
   "outputs": [
    {
     "data": {
      "text/plain": [
       "array(['Gasoline', nan, 'E85 Flex Fuel', 'Hybrid', 'Diesel',\n",
       "       'Plug-In Hybrid', 'not supported', '–'], dtype=object)"
      ]
     },
     "execution_count": 151,
     "metadata": {},
     "output_type": "execute_result"
    }
   ],
   "source": [
    "data['fuel_type'].unique()"
   ]
  },
  {
   "cell_type": "code",
   "execution_count": 152,
   "metadata": {
    "colab": {
     "base_uri": "https://localhost:8080/"
    },
    "id": "h6IRL1kOPubk",
    "outputId": "12454754-e9e9-4dc1-ca51-b82d69689f36"
   },
   "outputs": [],
   "source": [
    "data['fuel_type'].replace('–', \"unknown\", inplace=True)\n",
    "data['fuel_type'].replace('not supported', \"unknown\", inplace=True)\n",
    "data['fuel_type'].fillna('unknown' , inplace = True)"
   ]
  },
  {
   "cell_type": "markdown",
   "metadata": {},
   "source": [
    "### Accident Column"
   ]
  },
  {
   "cell_type": "code",
   "execution_count": 153,
   "metadata": {},
   "outputs": [
    {
     "data": {
      "text/plain": [
       "array(['None reported', 'At least 1 accident or damage reported', nan],\n",
       "      dtype=object)"
      ]
     },
     "execution_count": 153,
     "metadata": {},
     "output_type": "execute_result"
    }
   ],
   "source": [
    "data['accident'].unique()"
   ]
  },
  {
   "cell_type": "code",
   "execution_count": 154,
   "metadata": {
    "colab": {
     "base_uri": "https://localhost:8080/",
     "height": 533
    },
    "id": "bKy9uSlCPx4q",
    "outputId": "47cb8c96-b89d-4cb8-d669-2dd703a3bead"
   },
   "outputs": [],
   "source": [
    "data.dropna(subset=['accident'], inplace=True)"
   ]
  },
  {
   "cell_type": "markdown",
   "metadata": {},
   "source": [
    "### Clean_Title columns"
   ]
  },
  {
   "cell_type": "code",
   "execution_count": 155,
   "metadata": {},
   "outputs": [
    {
     "data": {
      "text/plain": [
       "array(['Yes', nan], dtype=object)"
      ]
     },
     "execution_count": 155,
     "metadata": {},
     "output_type": "execute_result"
    }
   ],
   "source": [
    "data['clean_title'].unique()"
   ]
  },
  {
   "cell_type": "code",
   "execution_count": 156,
   "metadata": {
    "colab": {
     "base_uri": "https://localhost:8080/"
    },
    "id": "57Me-eMhP18M",
    "outputId": "9b9062e4-f445-4f27-e788-5c10cc9c8b2b"
   },
   "outputs": [],
   "source": [
    "data['clean_title'].fillna('Unknown', inplace=True);"
   ]
  },
  {
   "cell_type": "markdown",
   "metadata": {},
   "source": [
    "# Outlier Removal"
   ]
  },
  {
   "cell_type": "code",
   "execution_count": 161,
   "metadata": {},
   "outputs": [
    {
     "data": {
      "text/html": [
       "<div>\n",
       "<style scoped>\n",
       "    .dataframe tbody tr th:only-of-type {\n",
       "        vertical-align: middle;\n",
       "    }\n",
       "\n",
       "    .dataframe tbody tr th {\n",
       "        vertical-align: top;\n",
       "    }\n",
       "\n",
       "    .dataframe thead th {\n",
       "        text-align: right;\n",
       "    }\n",
       "</style>\n",
       "<table border=\"1\" class=\"dataframe\">\n",
       "  <thead>\n",
       "    <tr style=\"text-align: right;\">\n",
       "      <th></th>\n",
       "      <th>id</th>\n",
       "      <th>model_year</th>\n",
       "      <th>milage</th>\n",
       "      <th>target</th>\n",
       "    </tr>\n",
       "  </thead>\n",
       "  <tbody>\n",
       "    <tr>\n",
       "      <th>count</th>\n",
       "      <td>37185.000000</td>\n",
       "      <td>37185.000000</td>\n",
       "      <td>37185.000000</td>\n",
       "      <td>37185.000000</td>\n",
       "    </tr>\n",
       "    <tr>\n",
       "      <th>mean</th>\n",
       "      <td>110683.495334</td>\n",
       "      <td>2017.141831</td>\n",
       "      <td>56548.068603</td>\n",
       "      <td>31796.550437</td>\n",
       "    </tr>\n",
       "    <tr>\n",
       "      <th>std</th>\n",
       "      <td>45100.343650</td>\n",
       "      <td>3.475371</td>\n",
       "      <td>16177.064008</td>\n",
       "      <td>6584.541995</td>\n",
       "    </tr>\n",
       "    <tr>\n",
       "      <th>min</th>\n",
       "      <td>32822.000000</td>\n",
       "      <td>1974.000000</td>\n",
       "      <td>26315.000000</td>\n",
       "      <td>20900.000000</td>\n",
       "    </tr>\n",
       "    <tr>\n",
       "      <th>25%</th>\n",
       "      <td>71471.000000</td>\n",
       "      <td>2016.000000</td>\n",
       "      <td>44362.000000</td>\n",
       "      <td>26500.000000</td>\n",
       "    </tr>\n",
       "    <tr>\n",
       "      <th>50%</th>\n",
       "      <td>110613.000000</td>\n",
       "      <td>2018.000000</td>\n",
       "      <td>56000.000000</td>\n",
       "      <td>31000.000000</td>\n",
       "    </tr>\n",
       "    <tr>\n",
       "      <th>75%</th>\n",
       "      <td>150049.000000</td>\n",
       "      <td>2019.000000</td>\n",
       "      <td>69341.000000</td>\n",
       "      <td>36990.000000</td>\n",
       "    </tr>\n",
       "    <tr>\n",
       "      <th>max</th>\n",
       "      <td>188532.000000</td>\n",
       "      <td>2024.000000</td>\n",
       "      <td>88883.000000</td>\n",
       "      <td>44999.000000</td>\n",
       "    </tr>\n",
       "  </tbody>\n",
       "</table>\n",
       "</div>"
      ],
      "text/plain": [
       "                  id    model_year        milage        target\n",
       "count   37185.000000  37185.000000  37185.000000  37185.000000\n",
       "mean   110683.495334   2017.141831  56548.068603  31796.550437\n",
       "std     45100.343650      3.475371  16177.064008   6584.541995\n",
       "min     32822.000000   1974.000000  26315.000000  20900.000000\n",
       "25%     71471.000000   2016.000000  44362.000000  26500.000000\n",
       "50%    110613.000000   2018.000000  56000.000000  31000.000000\n",
       "75%    150049.000000   2019.000000  69341.000000  36990.000000\n",
       "max    188532.000000   2024.000000  88883.000000  44999.000000"
      ]
     },
     "execution_count": 161,
     "metadata": {},
     "output_type": "execute_result"
    }
   ],
   "source": [
    "data.describe()"
   ]
  },
  {
   "cell_type": "code",
   "execution_count": 160,
   "metadata": {},
   "outputs": [],
   "source": [
    "lower_percentile = data['milage'].quantile(0.15)\n",
    "upper_percentile = data['milage'].quantile(0.85)\n",
    "\n",
    "data = data[(data['milage'] >= lower_percentile) & (data['milage'] <= upper_percentile)]\n",
    "\n",
    "lower_target_percentile = data['target'].quantile(0.15)\n",
    "upper_target_percentile = data['target'].quantile(0.85)\n",
    "data = data[(data['target'] >= lower_target_percentile) & (data['target'] <= upper_target_percentile)]"
   ]
  },
  {
   "cell_type": "markdown",
   "metadata": {},
   "source": [
    "# Exploratory Data Analysis"
   ]
  },
  {
   "cell_type": "code",
   "execution_count": 162,
   "metadata": {},
   "outputs": [
    {
     "data": {
      "image/png": "[encoded data removed]",
      "text/plain": [
       "<Figure size 800x600 with 1 Axes>"
      ]
     },
     "metadata": {},
     "output_type": "display_data"
    }
   ],
   "source": [
    "import matplotlib.pyplot as plt\n",
    "import seaborn as sns\n",
    "\n",
    "plt.figure(figsize=(8, 6))\n",
    "sns.boxplot(x='fuel_type', y='milage', data=data)\n",
    "plt.title('Mileage vs Fuel Type')\n",
    "plt.xlabel('Fuel Type')\n",
    "plt.ylabel('Mileage (mpg)');"
   ]
  },
  {
   "cell_type": "code",
   "execution_count": 163,
   "metadata": {},
   "outputs": [
    {
     "data": {
      "image/png": "[encoded data removed]",
      "text/plain": [
       "<Figure size 1600x1000 with 1 Axes>"
      ]
     },
     "metadata": {},
     "output_type": "display_data"
    }
   ],
   "source": [
    "plt.figure(figsize=(16, 10))\n",
    "plt.subplot(2,1,1)\n",
    "sns.countplot(data=data, x='brand', order=data['brand'].value_counts().index)\n",
    "plt.xticks(rotation=90)\n",
    "plt.title('Distribution of Vehicle Brands');"
   ]
  },
  {
   "cell_type": "code",
   "execution_count": 164,
   "metadata": {},
   "outputs": [
    {
     "data": {
      "image/png": "[encoded data removed]",
      "text/plain": [
       "<Figure size 1600x1000 with 1 Axes>"
      ]
     },
     "metadata": {},
     "output_type": "display_data"
    }
   ],
   "source": [
    "plt.figure(figsize=(16, 10))\n",
    "plt.subplot(2, 2, 2)\n",
    "sns.countplot(data=data, x='fuel_type',order=data['fuel_type'].value_counts().index)\n",
    "plt.title('Distribution of Fuel Types');"
   ]
  },
  {
   "cell_type": "markdown",
   "metadata": {
    "scrolled": true
   },
   "source": [
    "# Data Preprocessing and Transformation"
   ]
  },
  {
   "cell_type": "code",
   "execution_count": 165,
   "metadata": {
    "id": "-KZ_1x7mP9dL",
    "scrolled": true
   },
   "outputs": [],
   "source": [
    "data.drop(['id','model'] , axis= 1 ,inplace = True)"
   ]
  },
  {
   "cell_type": "markdown",
   "metadata": {},
   "source": [
    "### Encoding the categorical columns"
   ]
  },
  {
   "cell_type": "code",
   "execution_count": 166,
   "metadata": {
    "id": "QdwoL-bvQGrT"
   },
   "outputs": [],
   "source": [
    "from sklearn.preprocessing import LabelEncoder\n",
    "encoder = LabelEncoder()\n",
    "\n",
    "columns = ['accident','clean_title' ,'fuel_type', 'ext_col', 'int_col', 'engine',\n",
    "       'transmission','brand' ]\n",
    "\n",
    "for col in columns:\n",
    "    data[col] = encoder.fit_transform(data[col])"
   ]
  },
  {
   "cell_type": "markdown",
   "metadata": {},
   "source": [
    "### Scaling the numerical Columns"
   ]
  },
  {
   "cell_type": "code",
   "execution_count": 167,
   "metadata": {},
   "outputs": [],
   "source": [
    "from sklearn.preprocessing import MinMaxScaler\n",
    "scale = MinMaxScaler()\n",
    "columns_to_scale = [ 'milage']\n",
    "data[columns_to_scale] = scale.fit_transform(data[columns_to_scale])"
   ]
  },
  {
   "cell_type": "code",
   "execution_count": 168,
   "metadata": {
    "colab": {
     "base_uri": "https://localhost:8080/",
     "height": 221
    },
    "id": "7fXj1fGhQTJE",
    "outputId": "551622b9-1c56-4d29-c787-7bc8dd0638d4"
   },
   "outputs": [
    {
     "data": {
      "text/html": [
       "<div>\n",
       "<style scoped>\n",
       "    .dataframe tbody tr th:only-of-type {\n",
       "        vertical-align: middle;\n",
       "    }\n",
       "\n",
       "    .dataframe tbody tr th {\n",
       "        vertical-align: top;\n",
       "    }\n",
       "\n",
       "    .dataframe thead th {\n",
       "        text-align: right;\n",
       "    }\n",
       "</style>\n",
       "<table border=\"1\" class=\"dataframe\">\n",
       "  <thead>\n",
       "    <tr style=\"text-align: right;\">\n",
       "      <th></th>\n",
       "      <th>brand</th>\n",
       "      <th>model_year</th>\n",
       "      <th>milage</th>\n",
       "      <th>fuel_type</th>\n",
       "      <th>engine</th>\n",
       "      <th>transmission</th>\n",
       "      <th>ext_col</th>\n",
       "      <th>int_col</th>\n",
       "      <th>accident</th>\n",
       "      <th>clean_title</th>\n",
       "      <th>target</th>\n",
       "    </tr>\n",
       "  </thead>\n",
       "  <tbody>\n",
       "    <tr>\n",
       "      <th>0</th>\n",
       "      <td>8</td>\n",
       "      <td>2014</td>\n",
       "      <td>0.090861</td>\n",
       "      <td>2</td>\n",
       "      <td>801</td>\n",
       "      <td>15</td>\n",
       "      <td>33</td>\n",
       "      <td>12</td>\n",
       "      <td>1</td>\n",
       "      <td>1</td>\n",
       "      <td>27500</td>\n",
       "    </tr>\n",
       "    <tr>\n",
       "      <th>3</th>\n",
       "      <td>34</td>\n",
       "      <td>2016</td>\n",
       "      <td>0.434487</td>\n",
       "      <td>2</td>\n",
       "      <td>493</td>\n",
       "      <td>35</td>\n",
       "      <td>241</td>\n",
       "      <td>12</td>\n",
       "      <td>0</td>\n",
       "      <td>1</td>\n",
       "      <td>21400</td>\n",
       "    </tr>\n",
       "    <tr>\n",
       "      <th>14</th>\n",
       "      <td>4</td>\n",
       "      <td>2015</td>\n",
       "      <td>0.578331</td>\n",
       "      <td>2</td>\n",
       "      <td>760</td>\n",
       "      <td>22</td>\n",
       "      <td>112</td>\n",
       "      <td>12</td>\n",
       "      <td>1</td>\n",
       "      <td>1</td>\n",
       "      <td>40500</td>\n",
       "    </tr>\n",
       "    <tr>\n",
       "      <th>16</th>\n",
       "      <td>48</td>\n",
       "      <td>2020</td>\n",
       "      <td>0.266670</td>\n",
       "      <td>5</td>\n",
       "      <td>865</td>\n",
       "      <td>0</td>\n",
       "      <td>241</td>\n",
       "      <td>12</td>\n",
       "      <td>1</td>\n",
       "      <td>1</td>\n",
       "      <td>32000</td>\n",
       "    </tr>\n",
       "    <tr>\n",
       "      <th>20</th>\n",
       "      <td>37</td>\n",
       "      <td>2009</td>\n",
       "      <td>0.698200</td>\n",
       "      <td>2</td>\n",
       "      <td>819</td>\n",
       "      <td>19</td>\n",
       "      <td>281</td>\n",
       "      <td>12</td>\n",
       "      <td>0</td>\n",
       "      <td>1</td>\n",
       "      <td>28000</td>\n",
       "    </tr>\n",
       "  </tbody>\n",
       "</table>\n",
       "</div>"
      ],
      "text/plain": [
       "    brand  model_year    milage  fuel_type  engine  transmission  ext_col  \\\n",
       "0       8        2014  0.090861          2     801            15       33   \n",
       "3      34        2016  0.434487          2     493            35      241   \n",
       "14      4        2015  0.578331          2     760            22      112   \n",
       "16     48        2020  0.266670          5     865             0      241   \n",
       "20     37        2009  0.698200          2     819            19      281   \n",
       "\n",
       "    int_col  accident  clean_title  target  \n",
       "0        12         1            1   27500  \n",
       "3        12         0            1   21400  \n",
       "14       12         1            1   40500  \n",
       "16       12         1            1   32000  \n",
       "20       12         0            1   28000  "
      ]
     },
     "execution_count": 168,
     "metadata": {},
     "output_type": "execute_result"
    }
   ],
   "source": [
    "data.head()"
   ]
  },
  {
   "cell_type": "markdown",
   "metadata": {},
   "source": [
    "# Splitting the data for training and testing"
   ]
  },
  {
   "cell_type": "code",
   "execution_count": 169,
   "metadata": {
    "id": "rr_pWgBLQUsC"
   },
   "outputs": [],
   "source": [
    "X = data.drop('target' , axis = 1)\n",
    "Y = data['target']"
   ]
  },
  {
   "cell_type": "code",
   "execution_count": 170,
   "metadata": {
    "id": "IqXI4IEfQXeP"
   },
   "outputs": [],
   "source": [
    "from sklearn.model_selection import train_test_split\n",
    "X_train, X_test, y_train, y_test = train_test_split(X, Y, test_size=0.1, random_state=42)"
   ]
  },
  {
   "cell_type": "markdown",
   "metadata": {},
   "source": [
    "# Preparing the test dataset"
   ]
  },
  {
   "cell_type": "code",
   "execution_count": 171,
   "metadata": {},
   "outputs": [],
   "source": [
    "test = pd.read_csv(\"data/test.csv\")\n",
    "test_data = test.copy()\n",
    "test_data['fuel_type'].replace('–', \"unknown\", inplace=True)\n",
    "test_data['fuel_type'].replace('not supported', \"unknown\", inplace=True)\n",
    "test_data['fuel_type'].fillna('unknown' , inplace = True)\n",
    "test_data['accident'].dropna(inplace = True)\n",
    "test_data.dropna(subset=['accident'], inplace=True)\n",
    "test_data.isnull().sum()\n",
    "test_data.drop(['id','model'] , axis= 1 ,inplace = True)\n",
    "\n",
    "columns = ['accident','clean_title' ,'fuel_type', 'ext_col', 'int_col', 'engine',\n",
    "       'transmission','brand' ]\n",
    "for col in columns:\n",
    "    test_data[col] = encoder.fit_transform(test_data[col])\n",
    "\n",
    "columns_to_scale = [ 'milage']\n",
    "test_data[columns_to_scale] = scale.fit_transform(test_data[columns_to_scale])"
   ]
  },
  {
   "cell_type": "markdown",
   "metadata": {},
   "source": [
    "# XGBoost Regressor"
   ]
  },
  {
   "cell_type": "code",
   "execution_count": 172,
   "metadata": {},
   "outputs": [
    {
     "name": "stdout",
     "output_type": "stream",
     "text": [
      "Train MAE: 4870.608714114698, Train MSE: 33892768.15930475\n",
      "Validation MAE: 4828.037161892478, Validation MSE: 33763557.61222975\n",
      "\n",
      "Cross-validation scores: [34414080.13407876 34245272.20902175 34536399.6697657  33789797.2138696\n",
      " 35130291.08739807]\n",
      "Average accuracy: 34423168.06282678\n"
     ]
    }
   ],
   "source": [
    "from xgboost import XGBRegressor\n",
    "from sklearn.metrics import mean_absolute_error, mean_squared_error\n",
    "from sklearn.model_selection import KFold\n",
    "from sklearn.model_selection import cross_val_score\n",
    "\n",
    "model1 = XGBRegressor(n_estimators=50, learning_rate=0.04, max_depth=5,reg_alpha=1, reg_lambda=1)\n",
    "model1.fit(X_train, y_train);\n",
    "\n",
    "y_train_pred = model1.predict(X_train)\n",
    "y_test_pred = model1.predict(X_test)\n",
    "\n",
    "\n",
    "train_mae = mean_absolute_error(y_train, y_train_pred)\n",
    "train_mse = mean_squared_error(y_train, y_train_pred)\n",
    "val_mae = mean_absolute_error(y_test, y_test_pred)\n",
    "val_mse = mean_squared_error(y_test, y_test_pred)\n",
    "\n",
    "print(f\"Train MAE: {train_mae}, Train MSE: {train_mse}\")\n",
    "print(f\"Validation MAE: {val_mae}, Validation MSE: {val_mse}\\n\")\n",
    "\n",
    "\n",
    "kf = KFold(n_splits=5)\n",
    "mse = cross_val_score(model1, X, Y, cv=kf,scoring='neg_mean_squared_error')\n",
    "mse = -mse\n",
    "\n",
    "print(\"Cross-validation scores:\", mse)\n",
    "print(\"Average accuracy:\", mse.mean())"
   ]
  },
  {
   "cell_type": "markdown",
   "metadata": {},
   "source": [
    "# Saving predictions into CSV file for Submission"
   ]
  },
  {
   "cell_type": "code",
   "execution_count": 173,
   "metadata": {},
   "outputs": [],
   "source": [
    "id = test['id']"
   ]
  },
  {
   "cell_type": "code",
   "execution_count": 174,
   "metadata": {
    "id": "KhqVrDl2p84X"
   },
   "outputs": [],
   "source": [
    "y_pred  = model1.predict(test_data).flatten()\n",
    "y_pred_series = pd.Series(y_pred)\n",
    "result = pd.concat([id , y_pred_series] , axis = 1)\n",
    "result.columns = ['id', 'target']\n",
    "result.to_csv('submissionXG.csv',header= ['id', 'target'], index=False)"
   ]
  },
  {
   "cell_type": "code",
   "execution_count": null,
   "metadata": {},
   "outputs": [],
   "source": []
  }
 ],
 "metadata": {
  "accelerator": "GPU",
  "colab": {
   "gpuType": "T4",
   "provenance": []
  },
  "kernelspec": {
   "display_name": "Python 3 (ipykernel)",
   "language": "python",
   "name": "python3"
  },
  "language_info": {
   "codemirror_mode": {
    "name": "ipython",
    "version": 3
   },
   "file_extension": ".py",
   "mimetype": "text/x-python",
   "name": "python",
   "nbconvert_exporter": "python",
   "pygments_lexer": "ipython3",
   "version": "3.8.19"
  }
 },
 "nbformat": 4,
 "nbformat_minor": 4
}
